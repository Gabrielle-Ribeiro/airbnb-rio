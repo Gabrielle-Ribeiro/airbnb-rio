{
 "cells": [
  {
   "cell_type": "markdown",
   "id": "6964fcb9",
   "metadata": {},
   "source": [
    "# Data Preprocessing"
   ]
  },
  {
   "cell_type": "code",
   "execution_count": 2,
   "id": "e2a6139e",
   "metadata": {},
   "outputs": [],
   "source": [
    "import pandas as pd\n",
    "import numpy as np\n",
    "import matplotlib.pyplot as plt\n",
    "import seaborn as sns"
   ]
  },
  {
   "cell_type": "code",
   "execution_count": 3,
   "id": "79791502",
   "metadata": {},
   "outputs": [],
   "source": [
    "df = pd.read_csv('data/listings.csv')"
   ]
  },
  {
   "cell_type": "code",
   "execution_count": 4,
   "id": "23411f3c",
   "metadata": {},
   "outputs": [
    {
     "data": {
      "text/html": [
       "<div>\n",
       "<style scoped>\n",
       "    .dataframe tbody tr th:only-of-type {\n",
       "        vertical-align: middle;\n",
       "    }\n",
       "\n",
       "    .dataframe tbody tr th {\n",
       "        vertical-align: top;\n",
       "    }\n",
       "\n",
       "    .dataframe thead th {\n",
       "        text-align: right;\n",
       "    }\n",
       "</style>\n",
       "<table border=\"1\" class=\"dataframe\">\n",
       "  <thead>\n",
       "    <tr style=\"text-align: right;\">\n",
       "      <th></th>\n",
       "      <th>id</th>\n",
       "      <th>listing_url</th>\n",
       "      <th>scrape_id</th>\n",
       "      <th>last_scraped</th>\n",
       "      <th>name</th>\n",
       "      <th>description</th>\n",
       "      <th>neighborhood_overview</th>\n",
       "      <th>picture_url</th>\n",
       "      <th>host_id</th>\n",
       "      <th>host_url</th>\n",
       "      <th>...</th>\n",
       "      <th>review_scores_communication</th>\n",
       "      <th>review_scores_location</th>\n",
       "      <th>review_scores_value</th>\n",
       "      <th>license</th>\n",
       "      <th>instant_bookable</th>\n",
       "      <th>calculated_host_listings_count</th>\n",
       "      <th>calculated_host_listings_count_entire_homes</th>\n",
       "      <th>calculated_host_listings_count_private_rooms</th>\n",
       "      <th>calculated_host_listings_count_shared_rooms</th>\n",
       "      <th>reviews_per_month</th>\n",
       "    </tr>\n",
       "  </thead>\n",
       "  <tbody>\n",
       "    <tr>\n",
       "      <th>0</th>\n",
       "      <td>17878</td>\n",
       "      <td>https://www.airbnb.com/rooms/17878</td>\n",
       "      <td>20211026045247</td>\n",
       "      <td>2021-10-26</td>\n",
       "      <td>Very Nice 2Br in Copacabana w. balcony, fast WiFi</td>\n",
       "      <td>Discounts for long term stays. &lt;br /&gt;- Large b...</td>\n",
       "      <td>This is the one of the bests spots in Rio. Bec...</td>\n",
       "      <td>https://a0.muscache.com/pictures/65320518/3069...</td>\n",
       "      <td>68997</td>\n",
       "      <td>https://www.airbnb.com/users/show/68997</td>\n",
       "      <td>...</td>\n",
       "      <td>4.90</td>\n",
       "      <td>4.76</td>\n",
       "      <td>4.65</td>\n",
       "      <td>NaN</td>\n",
       "      <td>f</td>\n",
       "      <td>1</td>\n",
       "      <td>1</td>\n",
       "      <td>0</td>\n",
       "      <td>0</td>\n",
       "      <td>2.07</td>\n",
       "    </tr>\n",
       "    <tr>\n",
       "      <th>1</th>\n",
       "      <td>24480</td>\n",
       "      <td>https://www.airbnb.com/rooms/24480</td>\n",
       "      <td>20211026045247</td>\n",
       "      <td>2021-10-26</td>\n",
       "      <td>Nice and cozy near Ipanema Beach, w/ home office</td>\n",
       "      <td>My studio is located in the best of Ipanema, t...</td>\n",
       "      <td>The beach, the lagoon, Ipanema is a great loca...</td>\n",
       "      <td>https://a0.muscache.com/pictures/11955612/b28e...</td>\n",
       "      <td>99249</td>\n",
       "      <td>https://www.airbnb.com/users/show/99249</td>\n",
       "      <td>...</td>\n",
       "      <td>4.90</td>\n",
       "      <td>4.97</td>\n",
       "      <td>4.58</td>\n",
       "      <td>NaN</td>\n",
       "      <td>f</td>\n",
       "      <td>1</td>\n",
       "      <td>1</td>\n",
       "      <td>0</td>\n",
       "      <td>0</td>\n",
       "      <td>0.85</td>\n",
       "    </tr>\n",
       "    <tr>\n",
       "      <th>2</th>\n",
       "      <td>25026</td>\n",
       "      <td>https://www.airbnb.com/rooms/25026</td>\n",
       "      <td>20211026045247</td>\n",
       "      <td>2021-10-26</td>\n",
       "      <td>Beautiful Modern Decorated Studio in Copa</td>\n",
       "      <td>Our apartment is a little gem, everyone loves ...</td>\n",
       "      <td>Copacabana is a lively neighborhood and the ap...</td>\n",
       "      <td>https://a0.muscache.com/pictures/3003965/68ebb...</td>\n",
       "      <td>102840</td>\n",
       "      <td>https://www.airbnb.com/users/show/102840</td>\n",
       "      <td>...</td>\n",
       "      <td>4.90</td>\n",
       "      <td>4.81</td>\n",
       "      <td>4.56</td>\n",
       "      <td>NaN</td>\n",
       "      <td>f</td>\n",
       "      <td>1</td>\n",
       "      <td>1</td>\n",
       "      <td>0</td>\n",
       "      <td>0</td>\n",
       "      <td>1.84</td>\n",
       "    </tr>\n",
       "    <tr>\n",
       "      <th>3</th>\n",
       "      <td>35636</td>\n",
       "      <td>https://www.airbnb.com/rooms/35636</td>\n",
       "      <td>20211026045247</td>\n",
       "      <td>2021-10-27</td>\n",
       "      <td>Cosy flat close to Ipanema beach</td>\n",
       "      <td>This cosy apartment  is just a few steps away ...</td>\n",
       "      <td>The  apartment street is very quiet and safe ....</td>\n",
       "      <td>https://a0.muscache.com/pictures/20009355/38b6...</td>\n",
       "      <td>153232</td>\n",
       "      <td>https://www.airbnb.com/users/show/153232</td>\n",
       "      <td>...</td>\n",
       "      <td>4.88</td>\n",
       "      <td>4.90</td>\n",
       "      <td>4.65</td>\n",
       "      <td>NaN</td>\n",
       "      <td>f</td>\n",
       "      <td>1</td>\n",
       "      <td>1</td>\n",
       "      <td>0</td>\n",
       "      <td>0</td>\n",
       "      <td>1.90</td>\n",
       "    </tr>\n",
       "    <tr>\n",
       "      <th>4</th>\n",
       "      <td>35764</td>\n",
       "      <td>https://www.airbnb.com/rooms/35764</td>\n",
       "      <td>20211026045247</td>\n",
       "      <td>2021-10-26</td>\n",
       "      <td>COPACABANA SEA BREEZE  -  RIO - 20 X Superhost</td>\n",
       "      <td>Our newly renovated studio is located in the b...</td>\n",
       "      <td>Our guests will experience living with a local...</td>\n",
       "      <td>https://a0.muscache.com/pictures/23782972/1d3e...</td>\n",
       "      <td>153691</td>\n",
       "      <td>https://www.airbnb.com/users/show/153691</td>\n",
       "      <td>...</td>\n",
       "      <td>4.94</td>\n",
       "      <td>4.94</td>\n",
       "      <td>4.87</td>\n",
       "      <td>NaN</td>\n",
       "      <td>f</td>\n",
       "      <td>1</td>\n",
       "      <td>1</td>\n",
       "      <td>0</td>\n",
       "      <td>0</td>\n",
       "      <td>3.05</td>\n",
       "    </tr>\n",
       "  </tbody>\n",
       "</table>\n",
       "<p>5 rows × 74 columns</p>\n",
       "</div>"
      ],
      "text/plain": [
       "      id                         listing_url       scrape_id last_scraped  \\\n",
       "0  17878  https://www.airbnb.com/rooms/17878  20211026045247   2021-10-26   \n",
       "1  24480  https://www.airbnb.com/rooms/24480  20211026045247   2021-10-26   \n",
       "2  25026  https://www.airbnb.com/rooms/25026  20211026045247   2021-10-26   \n",
       "3  35636  https://www.airbnb.com/rooms/35636  20211026045247   2021-10-27   \n",
       "4  35764  https://www.airbnb.com/rooms/35764  20211026045247   2021-10-26   \n",
       "\n",
       "                                                name  \\\n",
       "0  Very Nice 2Br in Copacabana w. balcony, fast WiFi   \n",
       "1   Nice and cozy near Ipanema Beach, w/ home office   \n",
       "2          Beautiful Modern Decorated Studio in Copa   \n",
       "3                   Cosy flat close to Ipanema beach   \n",
       "4     COPACABANA SEA BREEZE  -  RIO - 20 X Superhost   \n",
       "\n",
       "                                         description  \\\n",
       "0  Discounts for long term stays. <br />- Large b...   \n",
       "1  My studio is located in the best of Ipanema, t...   \n",
       "2  Our apartment is a little gem, everyone loves ...   \n",
       "3  This cosy apartment  is just a few steps away ...   \n",
       "4  Our newly renovated studio is located in the b...   \n",
       "\n",
       "                               neighborhood_overview  \\\n",
       "0  This is the one of the bests spots in Rio. Bec...   \n",
       "1  The beach, the lagoon, Ipanema is a great loca...   \n",
       "2  Copacabana is a lively neighborhood and the ap...   \n",
       "3  The  apartment street is very quiet and safe ....   \n",
       "4  Our guests will experience living with a local...   \n",
       "\n",
       "                                         picture_url  host_id  \\\n",
       "0  https://a0.muscache.com/pictures/65320518/3069...    68997   \n",
       "1  https://a0.muscache.com/pictures/11955612/b28e...    99249   \n",
       "2  https://a0.muscache.com/pictures/3003965/68ebb...   102840   \n",
       "3  https://a0.muscache.com/pictures/20009355/38b6...   153232   \n",
       "4  https://a0.muscache.com/pictures/23782972/1d3e...   153691   \n",
       "\n",
       "                                   host_url  ... review_scores_communication  \\\n",
       "0   https://www.airbnb.com/users/show/68997  ...                        4.90   \n",
       "1   https://www.airbnb.com/users/show/99249  ...                        4.90   \n",
       "2  https://www.airbnb.com/users/show/102840  ...                        4.90   \n",
       "3  https://www.airbnb.com/users/show/153232  ...                        4.88   \n",
       "4  https://www.airbnb.com/users/show/153691  ...                        4.94   \n",
       "\n",
       "  review_scores_location review_scores_value license instant_bookable  \\\n",
       "0                   4.76                4.65     NaN                f   \n",
       "1                   4.97                4.58     NaN                f   \n",
       "2                   4.81                4.56     NaN                f   \n",
       "3                   4.90                4.65     NaN                f   \n",
       "4                   4.94                4.87     NaN                f   \n",
       "\n",
       "  calculated_host_listings_count calculated_host_listings_count_entire_homes  \\\n",
       "0                              1                                           1   \n",
       "1                              1                                           1   \n",
       "2                              1                                           1   \n",
       "3                              1                                           1   \n",
       "4                              1                                           1   \n",
       "\n",
       "  calculated_host_listings_count_private_rooms  \\\n",
       "0                                            0   \n",
       "1                                            0   \n",
       "2                                            0   \n",
       "3                                            0   \n",
       "4                                            0   \n",
       "\n",
       "  calculated_host_listings_count_shared_rooms reviews_per_month  \n",
       "0                                           0              2.07  \n",
       "1                                           0              0.85  \n",
       "2                                           0              1.84  \n",
       "3                                           0              1.90  \n",
       "4                                           0              3.05  \n",
       "\n",
       "[5 rows x 74 columns]"
      ]
     },
     "execution_count": 4,
     "metadata": {},
     "output_type": "execute_result"
    }
   ],
   "source": [
    "df.head()"
   ]
  },
  {
   "cell_type": "code",
   "execution_count": 5,
   "id": "044696d0",
   "metadata": {},
   "outputs": [
    {
     "name": "stdout",
     "output_type": "stream",
     "text": [
      "<class 'pandas.core.frame.DataFrame'>\n",
      "RangeIndex: 23359 entries, 0 to 23358\n",
      "Data columns (total 74 columns):\n",
      " #   Column                                        Non-Null Count  Dtype  \n",
      "---  ------                                        --------------  -----  \n",
      " 0   id                                            23359 non-null  int64  \n",
      " 1   listing_url                                   23359 non-null  object \n",
      " 2   scrape_id                                     23359 non-null  int64  \n",
      " 3   last_scraped                                  23359 non-null  object \n",
      " 4   name                                          23338 non-null  object \n",
      " 5   description                                   22137 non-null  object \n",
      " 6   neighborhood_overview                         12726 non-null  object \n",
      " 7   picture_url                                   23359 non-null  object \n",
      " 8   host_id                                       23359 non-null  int64  \n",
      " 9   host_url                                      23359 non-null  object \n",
      " 10  host_name                                     23354 non-null  object \n",
      " 11  host_since                                    23354 non-null  object \n",
      " 12  host_location                                 23281 non-null  object \n",
      " 13  host_about                                    11499 non-null  object \n",
      " 14  host_response_time                            16593 non-null  object \n",
      " 15  host_response_rate                            16593 non-null  object \n",
      " 16  host_acceptance_rate                          14990 non-null  object \n",
      " 17  host_is_superhost                             23354 non-null  object \n",
      " 18  host_thumbnail_url                            23354 non-null  object \n",
      " 19  host_picture_url                              23354 non-null  object \n",
      " 20  host_neighbourhood                            12738 non-null  object \n",
      " 21  host_listings_count                           23354 non-null  float64\n",
      " 22  host_total_listings_count                     23354 non-null  float64\n",
      " 23  host_verifications                            23359 non-null  object \n",
      " 24  host_has_profile_pic                          23354 non-null  object \n",
      " 25  host_identity_verified                        23354 non-null  object \n",
      " 26  neighbourhood                                 12726 non-null  object \n",
      " 27  neighbourhood_cleansed                        23359 non-null  object \n",
      " 28  neighbourhood_group_cleansed                  0 non-null      float64\n",
      " 29  latitude                                      23359 non-null  float64\n",
      " 30  longitude                                     23359 non-null  float64\n",
      " 31  property_type                                 23359 non-null  object \n",
      " 32  room_type                                     23359 non-null  object \n",
      " 33  accommodates                                  23359 non-null  int64  \n",
      " 34  bathrooms                                     0 non-null      float64\n",
      " 35  bathrooms_text                                23291 non-null  object \n",
      " 36  bedrooms                                      21871 non-null  float64\n",
      " 37  beds                                          23167 non-null  float64\n",
      " 38  amenities                                     23359 non-null  object \n",
      " 39  price                                         23359 non-null  object \n",
      " 40  minimum_nights                                23359 non-null  int64  \n",
      " 41  maximum_nights                                23359 non-null  int64  \n",
      " 42  minimum_minimum_nights                        23359 non-null  int64  \n",
      " 43  maximum_minimum_nights                        23359 non-null  int64  \n",
      " 44  minimum_maximum_nights                        23359 non-null  int64  \n",
      " 45  maximum_maximum_nights                        23359 non-null  int64  \n",
      " 46  minimum_nights_avg_ntm                        23359 non-null  float64\n",
      " 47  maximum_nights_avg_ntm                        23359 non-null  float64\n",
      " 48  calendar_updated                              0 non-null      float64\n",
      " 49  has_availability                              23359 non-null  object \n",
      " 50  availability_30                               23359 non-null  int64  \n",
      " 51  availability_60                               23359 non-null  int64  \n",
      " 52  availability_90                               23359 non-null  int64  \n",
      " 53  availability_365                              23359 non-null  int64  \n",
      " 54  calendar_last_scraped                         23359 non-null  object \n",
      " 55  number_of_reviews                             23359 non-null  int64  \n",
      " 56  number_of_reviews_ltm                         23359 non-null  int64  \n",
      " 57  number_of_reviews_l30d                        23359 non-null  int64  \n",
      " 58  first_review                                  15107 non-null  object \n",
      " 59  last_review                                   15107 non-null  object \n",
      " 60  review_scores_rating                          15107 non-null  float64\n",
      " 61  review_scores_accuracy                        14679 non-null  float64\n",
      " 62  review_scores_cleanliness                     14679 non-null  float64\n",
      " 63  review_scores_checkin                         14679 non-null  float64\n",
      " 64  review_scores_communication                   14681 non-null  float64\n",
      " 65  review_scores_location                        14679 non-null  float64\n",
      " 66  review_scores_value                           14681 non-null  float64\n",
      " 67  license                                       0 non-null      float64\n",
      " 68  instant_bookable                              23359 non-null  object \n",
      " 69  calculated_host_listings_count                23359 non-null  int64  \n",
      " 70  calculated_host_listings_count_entire_homes   23359 non-null  int64  \n",
      " 71  calculated_host_listings_count_private_rooms  23359 non-null  int64  \n",
      " 72  calculated_host_listings_count_shared_rooms   23359 non-null  int64  \n",
      " 73  reviews_per_month                             15107 non-null  float64\n",
      "dtypes: float64(20), int64(21), object(33)\n",
      "memory usage: 13.2+ MB\n"
     ]
    }
   ],
   "source": [
    "df.info()"
   ]
  },
  {
   "cell_type": "markdown",
   "id": "168ce9e7",
   "metadata": {},
   "source": [
    "**Creating a new dataframe with columns that will be used**\n",
    "\n",
    "Note that we have 73 columns in the original dataset. We are not going to use all of these features. Some of them are completly empty with no data at all. And some are irrelevant for our purpose, as text data, because we are not going to use neural networks in this project.      \n",
    "Let's create a new dataframe only with the columns that will be used, totaling 17 columns from the original dataset."
   ]
  },
  {
   "cell_type": "code",
   "execution_count": 6,
   "id": "2133250a",
   "metadata": {},
   "outputs": [],
   "source": [
    "df = df[['host_is_superhost',\n",
    "         'host_identity_verified',\n",
    "         'neighbourhood_cleansed',\n",
    "         'latitude',\n",
    "         'longitude', \n",
    "         'property_type',\n",
    "         'room_type',\n",
    "         'accommodates',\n",
    "         'bathrooms_text',\n",
    "         'bedrooms', \n",
    "         'beds',\n",
    "         'amenities',\n",
    "         'price',\n",
    "         'minimum_nights',\n",
    "         'maximum_nights',\n",
    "         'number_of_reviews',\n",
    "         'instant_bookable',\n",
    "         'reviews_per_month']]"
   ]
  },
  {
   "cell_type": "code",
   "execution_count": 7,
   "id": "9f8d8e77",
   "metadata": {},
   "outputs": [
    {
     "data": {
      "text/html": [
       "<div>\n",
       "<style scoped>\n",
       "    .dataframe tbody tr th:only-of-type {\n",
       "        vertical-align: middle;\n",
       "    }\n",
       "\n",
       "    .dataframe tbody tr th {\n",
       "        vertical-align: top;\n",
       "    }\n",
       "\n",
       "    .dataframe thead th {\n",
       "        text-align: right;\n",
       "    }\n",
       "</style>\n",
       "<table border=\"1\" class=\"dataframe\">\n",
       "  <thead>\n",
       "    <tr style=\"text-align: right;\">\n",
       "      <th></th>\n",
       "      <th>host_is_superhost</th>\n",
       "      <th>host_identity_verified</th>\n",
       "      <th>neighbourhood_cleansed</th>\n",
       "      <th>latitude</th>\n",
       "      <th>longitude</th>\n",
       "      <th>property_type</th>\n",
       "      <th>room_type</th>\n",
       "      <th>accommodates</th>\n",
       "      <th>bathrooms_text</th>\n",
       "      <th>bedrooms</th>\n",
       "      <th>beds</th>\n",
       "      <th>amenities</th>\n",
       "      <th>price</th>\n",
       "      <th>minimum_nights</th>\n",
       "      <th>maximum_nights</th>\n",
       "      <th>number_of_reviews</th>\n",
       "      <th>instant_bookable</th>\n",
       "      <th>reviews_per_month</th>\n",
       "    </tr>\n",
       "  </thead>\n",
       "  <tbody>\n",
       "    <tr>\n",
       "      <th>0</th>\n",
       "      <td>f</td>\n",
       "      <td>t</td>\n",
       "      <td>Copacabana</td>\n",
       "      <td>-22.96599</td>\n",
       "      <td>-43.17940</td>\n",
       "      <td>Entire condominium (condo)</td>\n",
       "      <td>Entire home/apt</td>\n",
       "      <td>5</td>\n",
       "      <td>1 bath</td>\n",
       "      <td>2.0</td>\n",
       "      <td>2.0</td>\n",
       "      <td>[\"Air conditioning\", \"Hangers\", \"Elevator\", \"C...</td>\n",
       "      <td>$350.00</td>\n",
       "      <td>5</td>\n",
       "      <td>180</td>\n",
       "      <td>266</td>\n",
       "      <td>f</td>\n",
       "      <td>2.07</td>\n",
       "    </tr>\n",
       "    <tr>\n",
       "      <th>1</th>\n",
       "      <td>f</td>\n",
       "      <td>t</td>\n",
       "      <td>Ipanema</td>\n",
       "      <td>-22.98405</td>\n",
       "      <td>-43.20189</td>\n",
       "      <td>Entire rental unit</td>\n",
       "      <td>Entire home/apt</td>\n",
       "      <td>2</td>\n",
       "      <td>1 bath</td>\n",
       "      <td>1.0</td>\n",
       "      <td>1.0</td>\n",
       "      <td>[\"Room-darkening shades\", \"Air conditioning\", ...</td>\n",
       "      <td>$296.00</td>\n",
       "      <td>3</td>\n",
       "      <td>90</td>\n",
       "      <td>85</td>\n",
       "      <td>f</td>\n",
       "      <td>0.85</td>\n",
       "    </tr>\n",
       "    <tr>\n",
       "      <th>2</th>\n",
       "      <td>f</td>\n",
       "      <td>t</td>\n",
       "      <td>Copacabana</td>\n",
       "      <td>-22.97735</td>\n",
       "      <td>-43.19105</td>\n",
       "      <td>Entire rental unit</td>\n",
       "      <td>Entire home/apt</td>\n",
       "      <td>2</td>\n",
       "      <td>1 bath</td>\n",
       "      <td>1.0</td>\n",
       "      <td>1.0</td>\n",
       "      <td>[\"Essentials\", \"Kitchen\", \"TV with standard ca...</td>\n",
       "      <td>$168.00</td>\n",
       "      <td>4</td>\n",
       "      <td>90</td>\n",
       "      <td>238</td>\n",
       "      <td>f</td>\n",
       "      <td>1.84</td>\n",
       "    </tr>\n",
       "    <tr>\n",
       "      <th>3</th>\n",
       "      <td>t</td>\n",
       "      <td>t</td>\n",
       "      <td>Ipanema</td>\n",
       "      <td>-22.98839</td>\n",
       "      <td>-43.19232</td>\n",
       "      <td>Entire rental unit</td>\n",
       "      <td>Entire home/apt</td>\n",
       "      <td>2</td>\n",
       "      <td>1.5 baths</td>\n",
       "      <td>1.0</td>\n",
       "      <td>1.0</td>\n",
       "      <td>[\"Air conditioning\", \"Hangers\", \"Elevator\", \"C...</td>\n",
       "      <td>$278.00</td>\n",
       "      <td>2</td>\n",
       "      <td>89</td>\n",
       "      <td>181</td>\n",
       "      <td>f</td>\n",
       "      <td>1.90</td>\n",
       "    </tr>\n",
       "    <tr>\n",
       "      <th>4</th>\n",
       "      <td>t</td>\n",
       "      <td>t</td>\n",
       "      <td>Copacabana</td>\n",
       "      <td>-22.98107</td>\n",
       "      <td>-43.19136</td>\n",
       "      <td>Entire loft</td>\n",
       "      <td>Entire home/apt</td>\n",
       "      <td>2</td>\n",
       "      <td>1.5 baths</td>\n",
       "      <td>1.0</td>\n",
       "      <td>1.0</td>\n",
       "      <td>[\"Room-darkening shades\", \"Air conditioning\", ...</td>\n",
       "      <td>$150.00</td>\n",
       "      <td>3</td>\n",
       "      <td>15</td>\n",
       "      <td>373</td>\n",
       "      <td>f</td>\n",
       "      <td>3.05</td>\n",
       "    </tr>\n",
       "  </tbody>\n",
       "</table>\n",
       "</div>"
      ],
      "text/plain": [
       "  host_is_superhost host_identity_verified neighbourhood_cleansed  latitude  \\\n",
       "0                 f                      t             Copacabana -22.96599   \n",
       "1                 f                      t                Ipanema -22.98405   \n",
       "2                 f                      t             Copacabana -22.97735   \n",
       "3                 t                      t                Ipanema -22.98839   \n",
       "4                 t                      t             Copacabana -22.98107   \n",
       "\n",
       "   longitude               property_type        room_type  accommodates  \\\n",
       "0  -43.17940  Entire condominium (condo)  Entire home/apt             5   \n",
       "1  -43.20189          Entire rental unit  Entire home/apt             2   \n",
       "2  -43.19105          Entire rental unit  Entire home/apt             2   \n",
       "3  -43.19232          Entire rental unit  Entire home/apt             2   \n",
       "4  -43.19136                 Entire loft  Entire home/apt             2   \n",
       "\n",
       "  bathrooms_text  bedrooms  beds  \\\n",
       "0         1 bath       2.0   2.0   \n",
       "1         1 bath       1.0   1.0   \n",
       "2         1 bath       1.0   1.0   \n",
       "3      1.5 baths       1.0   1.0   \n",
       "4      1.5 baths       1.0   1.0   \n",
       "\n",
       "                                           amenities    price  minimum_nights  \\\n",
       "0  [\"Air conditioning\", \"Hangers\", \"Elevator\", \"C...  $350.00               5   \n",
       "1  [\"Room-darkening shades\", \"Air conditioning\", ...  $296.00               3   \n",
       "2  [\"Essentials\", \"Kitchen\", \"TV with standard ca...  $168.00               4   \n",
       "3  [\"Air conditioning\", \"Hangers\", \"Elevator\", \"C...  $278.00               2   \n",
       "4  [\"Room-darkening shades\", \"Air conditioning\", ...  $150.00               3   \n",
       "\n",
       "   maximum_nights  number_of_reviews instant_bookable  reviews_per_month  \n",
       "0             180                266                f               2.07  \n",
       "1              90                 85                f               0.85  \n",
       "2              90                238                f               1.84  \n",
       "3              89                181                f               1.90  \n",
       "4              15                373                f               3.05  "
      ]
     },
     "execution_count": 7,
     "metadata": {},
     "output_type": "execute_result"
    }
   ],
   "source": [
    "df.head()"
   ]
  },
  {
   "cell_type": "code",
   "execution_count": 8,
   "id": "249e76df",
   "metadata": {},
   "outputs": [
    {
     "name": "stdout",
     "output_type": "stream",
     "text": [
      "<class 'pandas.core.frame.DataFrame'>\n",
      "RangeIndex: 23359 entries, 0 to 23358\n",
      "Data columns (total 18 columns):\n",
      " #   Column                  Non-Null Count  Dtype  \n",
      "---  ------                  --------------  -----  \n",
      " 0   host_is_superhost       23354 non-null  object \n",
      " 1   host_identity_verified  23354 non-null  object \n",
      " 2   neighbourhood_cleansed  23359 non-null  object \n",
      " 3   latitude                23359 non-null  float64\n",
      " 4   longitude               23359 non-null  float64\n",
      " 5   property_type           23359 non-null  object \n",
      " 6   room_type               23359 non-null  object \n",
      " 7   accommodates            23359 non-null  int64  \n",
      " 8   bathrooms_text          23291 non-null  object \n",
      " 9   bedrooms                21871 non-null  float64\n",
      " 10  beds                    23167 non-null  float64\n",
      " 11  amenities               23359 non-null  object \n",
      " 12  price                   23359 non-null  object \n",
      " 13  minimum_nights          23359 non-null  int64  \n",
      " 14  maximum_nights          23359 non-null  int64  \n",
      " 15  number_of_reviews       23359 non-null  int64  \n",
      " 16  instant_bookable        23359 non-null  object \n",
      " 17  reviews_per_month       15107 non-null  float64\n",
      "dtypes: float64(5), int64(4), object(9)\n",
      "memory usage: 3.2+ MB\n"
     ]
    }
   ],
   "source": [
    "df.info()"
   ]
  },
  {
   "cell_type": "markdown",
   "id": "2220f130",
   "metadata": {},
   "source": [
    "## Data Cleaning and Data Transformation\n",
    "\n",
    "- Identifying and removing the anomalies in the dataset.\n",
    "- Changing the data type pf the columns, creating derived columns or removing duplicate data."
   ]
  },
  {
   "cell_type": "markdown",
   "id": "999a01db",
   "metadata": {},
   "source": [
    "### Dealing with missing data"
   ]
  },
  {
   "cell_type": "markdown",
   "id": "7d401f38",
   "metadata": {},
   "source": [
    "**Checking which columns have null data (in descending order)**"
   ]
  },
  {
   "cell_type": "code",
   "execution_count": 9,
   "id": "796123e1",
   "metadata": {},
   "outputs": [
    {
     "data": {
      "text/plain": [
       "reviews_per_month         8252\n",
       "bedrooms                  1488\n",
       "beds                       192\n",
       "bathrooms_text              68\n",
       "host_identity_verified       5\n",
       "host_is_superhost            5\n",
       "neighbourhood_cleansed       0\n",
       "latitude                     0\n",
       "longitude                    0\n",
       "property_type                0\n",
       "room_type                    0\n",
       "accommodates                 0\n",
       "amenities                    0\n",
       "price                        0\n",
       "minimum_nights               0\n",
       "maximum_nights               0\n",
       "number_of_reviews            0\n",
       "instant_bookable             0\n",
       "dtype: int64"
      ]
     },
     "execution_count": 9,
     "metadata": {},
     "output_type": "execute_result"
    }
   ],
   "source": [
    "df.isna().sum().sort_values(ascending=False)"
   ]
  },
  {
   "cell_type": "markdown",
   "id": "850d5c47",
   "metadata": {},
   "source": [
    "**Missing data percentages**"
   ]
  },
  {
   "cell_type": "code",
   "execution_count": 27,
   "id": "94e30909",
   "metadata": {},
   "outputs": [
    {
     "data": {
      "text/plain": [
       "host_is_superhost         0.0\n",
       "host_identity_verified    0.0\n",
       "instant_bookable          0.0\n",
       "number_of_reviews         0.0\n",
       "maximum_nights            0.0\n",
       "minimum_nights            0.0\n",
       "price                     0.0\n",
       "amenities                 0.0\n",
       "beds                      0.0\n",
       "bedrooms                  0.0\n",
       "bathrooms_text            0.0\n",
       "accommodates              0.0\n",
       "room_type                 0.0\n",
       "property_type             0.0\n",
       "longitude                 0.0\n",
       "latitude                  0.0\n",
       "neighbourhood_cleansed    0.0\n",
       "reviews_per_month         0.0\n",
       "dtype: float64"
      ]
     },
     "execution_count": 27,
     "metadata": {},
     "output_type": "execute_result"
    }
   ],
   "source": [
    "((df.isna().sum()) * 100/23359).sort_values(ascending=False)"
   ]
  },
  {
   "cell_type": "markdown",
   "id": "9ede0d8c",
   "metadata": {},
   "source": [
    "**Approach to deal with missing data**\n",
    "\n",
    "Because no column has more than 50% of the missing values, we will not delete any columns. With regard to missing lines, rather than deleting lines that do not have information, we will take an approach of trying to fill the lines with a reasonable assumption, either by statistical techniques or by a knowledge of the problem domain. "
   ]
  },
  {
   "cell_type": "markdown",
   "id": "216b0845",
   "metadata": {},
   "source": [
    "**reviews_per_months Column**\n",
    "\n",
    "The reviews_per_months column has approximately 35% of rows missing data. It is quite a expressive quantity.\n",
    "A reasonable assumption to make is to assume that these Airbnbs never receive any reviews, so we can fill these rows with 0."
   ]
  },
  {
   "cell_type": "code",
   "execution_count": 11,
   "id": "5bc42a46",
   "metadata": {},
   "outputs": [],
   "source": [
    "df['reviews_per_month'].fillna(0, inplace=True)"
   ]
  },
  {
   "cell_type": "markdown",
   "id": "163ff46e",
   "metadata": {},
   "source": [
    "**bedrooms Column**\n",
    "\n",
    "Column bedrooms has approximately 6% row missing data. We chose to use the median. Although the values in this column are of type float64, we can see that all numbers are integers. If we use the mean, we would get 1.7, a non-integer number, and since it is not possible to have 1.7 rooms, we use the median to obtain an integer value."
   ]
  },
  {
   "cell_type": "code",
   "execution_count": 12,
   "id": "d0400797",
   "metadata": {},
   "outputs": [
    {
     "data": {
      "text/plain": [
       "array([ 2.,  1.,  6.,  4.,  3., nan,  7., 10.,  5.,  9., 15., 20.,  8.,\n",
       "       17., 12., 11., 13., 30., 14., 47., 18.])"
      ]
     },
     "execution_count": 12,
     "metadata": {},
     "output_type": "execute_result"
    }
   ],
   "source": [
    "# Verifying the unique values of the column\n",
    "df['bedrooms'].unique()"
   ]
  },
  {
   "cell_type": "code",
   "execution_count": 13,
   "id": "d4ba03a1",
   "metadata": {},
   "outputs": [
    {
     "data": {
      "text/plain": [
       "1.0"
      ]
     },
     "execution_count": 13,
     "metadata": {},
     "output_type": "execute_result"
    }
   ],
   "source": [
    "df['bedrooms'].median()"
   ]
  },
  {
   "cell_type": "code",
   "execution_count": 14,
   "id": "2d3ac410",
   "metadata": {},
   "outputs": [],
   "source": [
    "df['bedrooms'].fillna((df['bedrooms'].median()), inplace=True)"
   ]
  },
  {
   "cell_type": "markdown",
   "id": "ba621db9",
   "metadata": {},
   "source": [
    "**beds Column**\n",
    "\n",
    "The missing values of beds column represents only 0.8% of the data. Although it's only a small percentage, we are going to fill in these missing values. Using the same logic for filling in the bedrooms column, we will use the median of the existing values."
   ]
  },
  {
   "cell_type": "code",
   "execution_count": 15,
   "id": "aa4ea252",
   "metadata": {},
   "outputs": [
    {
     "data": {
      "text/plain": [
       "array([ 2.,  1.,  7.,  5.,  3., 10.,  6.,  4.,  8.,  0.,  9., 16., 50.,\n",
       "       nan, 14., 13., 17., 12., 15., 11., 18., 91., 24., 35., 30., 41.,\n",
       "       38., 20., 22., 27., 33., 21., 26., 25., 23., 43., 52., 29., 31.])"
      ]
     },
     "execution_count": 15,
     "metadata": {},
     "output_type": "execute_result"
    }
   ],
   "source": [
    "# All the unique values are integers\n",
    "df['beds'].unique()"
   ]
  },
  {
   "cell_type": "code",
   "execution_count": 16,
   "id": "d6eabfd3",
   "metadata": {},
   "outputs": [
    {
     "data": {
      "text/plain": [
       "2.0"
      ]
     },
     "execution_count": 16,
     "metadata": {},
     "output_type": "execute_result"
    }
   ],
   "source": [
    "df['beds'].median()"
   ]
  },
  {
   "cell_type": "code",
   "execution_count": 17,
   "id": "0c6efbec",
   "metadata": {},
   "outputs": [],
   "source": [
    "df['beds'].fillna((df['beds'].median()), inplace=True)"
   ]
  },
  {
   "cell_type": "markdown",
   "id": "c35465e5",
   "metadata": {},
   "source": [
    "**bathrooms_text Column**\n",
    "\n",
    "The bathroom_text column has only 0.29% of rows missing data. We're going to fill these rows with the mode, since bathroom_text can be considered a categorical feature, because its values have string type."
   ]
  },
  {
   "cell_type": "code",
   "execution_count": 18,
   "id": "e879df10",
   "metadata": {},
   "outputs": [
    {
     "data": {
      "text/plain": [
       "array(['1 bath', '1.5 baths', '15 baths', '1 private bath', '3 baths',\n",
       "       '7 baths', '4 baths', '2.5 baths', '2 baths', '5 shared baths',\n",
       "       nan, '1 shared bath', '4.5 baths', '2 shared baths',\n",
       "       '1.5 shared baths', '3.5 baths', '0 shared baths', '5 baths',\n",
       "       '0 baths', '2.5 shared baths', '6 baths', 'Shared half-bath',\n",
       "       '10 baths', '8 baths', '3 shared baths', '6.5 baths', '5.5 baths',\n",
       "       '4 shared baths', '7.5 baths', 'Half-bath', '3.5 shared baths',\n",
       "       '7 shared baths', '11.5 baths', '20 shared baths', '20 baths',\n",
       "       '6.5 shared baths', '11 baths', '12 baths', '15.5 baths',\n",
       "       '8.5 baths', '6 shared baths', 'Private half-bath', '10.5 baths',\n",
       "       '13 baths', '9 baths', '4.5 shared baths', '18 baths',\n",
       "       '8.5 shared baths', '50 baths', '9.5 baths', '9 shared baths',\n",
       "       '8 shared baths', '5.5 shared baths'], dtype=object)"
      ]
     },
     "execution_count": 18,
     "metadata": {},
     "output_type": "execute_result"
    }
   ],
   "source": [
    "df['bathrooms_text'].unique()"
   ]
  },
  {
   "cell_type": "code",
   "execution_count": 19,
   "id": "d39f9adb",
   "metadata": {},
   "outputs": [
    {
     "data": {
      "text/plain": [
       "'1 bath'"
      ]
     },
     "execution_count": 19,
     "metadata": {},
     "output_type": "execute_result"
    }
   ],
   "source": [
    "# Mode\n",
    "df['bathrooms_text'].value_counts().index[0]"
   ]
  },
  {
   "cell_type": "code",
   "execution_count": 20,
   "id": "71c791f3",
   "metadata": {},
   "outputs": [],
   "source": [
    "df['bathrooms_text'].fillna(df['bathrooms_text'].value_counts().index[0], inplace=True)"
   ]
  },
  {
   "cell_type": "markdown",
   "id": "968a2155",
   "metadata": {},
   "source": [
    "**host_is_superhost Column**\n",
    "\n",
    "This column can have only one of two values: 'f' for false and 't' for true. Let's assume that the missing values are hosts that aren't superhosts. So, let's fill it with 'f'."
   ]
  },
  {
   "cell_type": "code",
   "execution_count": 22,
   "id": "fd02e664",
   "metadata": {},
   "outputs": [
    {
     "data": {
      "text/plain": [
       "array(['f', 't', nan], dtype=object)"
      ]
     },
     "execution_count": 22,
     "metadata": {},
     "output_type": "execute_result"
    }
   ],
   "source": [
    "df['host_is_superhost'].unique()"
   ]
  },
  {
   "cell_type": "code",
   "execution_count": 23,
   "id": "d8e2ccec",
   "metadata": {},
   "outputs": [],
   "source": [
    "df['host_is_superhost'].fillna('f', inplace=True)"
   ]
  },
  {
   "cell_type": "markdown",
   "id": "245b53a5",
   "metadata": {},
   "source": [
    "**host_identity_verified Column**\n",
    "\n",
    "This column can also have only one of two values: 'f' for false and 't' for true. Let's make the same assumption above, and fill the missing values with 'f'."
   ]
  },
  {
   "cell_type": "code",
   "execution_count": 25,
   "id": "0c608d88",
   "metadata": {},
   "outputs": [
    {
     "data": {
      "text/plain": [
       "array(['t', 'f', nan], dtype=object)"
      ]
     },
     "execution_count": 25,
     "metadata": {},
     "output_type": "execute_result"
    }
   ],
   "source": [
    "df['host_identity_verified'].unique()"
   ]
  },
  {
   "cell_type": "code",
   "execution_count": 26,
   "id": "37e4bdab",
   "metadata": {},
   "outputs": [],
   "source": [
    "df['host_identity_verified'].fillna('f', inplace=True)"
   ]
  },
  {
   "cell_type": "markdown",
   "id": "7a68ba04",
   "metadata": {},
   "source": [
    "### Transforming string into numeric type"
   ]
  },
  {
   "cell_type": "markdown",
   "id": "23687b88",
   "metadata": {},
   "source": [
    "**Transforming price data type**\n",
    "\n",
    "As we can see, the price has a \\\\$ sign and is of string type. Being the feature that we after are going to try to predict, and a real number, we need to change its type to float. "
   ]
  },
  {
   "cell_type": "code",
   "execution_count": 29,
   "id": "74b5e156",
   "metadata": {},
   "outputs": [
    {
     "data": {
      "text/plain": [
       "array(['$350.00', '$296.00', '$168.00', ..., '$1,083.00', '$2,456.00',\n",
       "       '$408.00'], dtype=object)"
      ]
     },
     "execution_count": 29,
     "metadata": {},
     "output_type": "execute_result"
    }
   ],
   "source": [
    "df['price'].unique()"
   ]
  },
  {
   "cell_type": "code",
   "execution_count": 30,
   "id": "e57c3dcc",
   "metadata": {},
   "outputs": [],
   "source": [
    "def convert_price_to_numeric(price):\n",
    "    return float(price[1:].replace(',', ''))"
   ]
  },
  {
   "cell_type": "code",
   "execution_count": 31,
   "id": "ad8a3568",
   "metadata": {},
   "outputs": [],
   "source": [
    "df['price'] = df['price'].apply(convert_price_to_numeric)"
   ]
  },
  {
   "cell_type": "code",
   "execution_count": 32,
   "id": "38d200e0",
   "metadata": {},
   "outputs": [
    {
     "data": {
      "text/plain": [
       "array([ 350.,  296.,  168., ..., 1083., 2456.,  408.])"
      ]
     },
     "execution_count": 32,
     "metadata": {},
     "output_type": "execute_result"
    }
   ],
   "source": [
    "df['price'].unique()"
   ]
  },
  {
   "cell_type": "markdown",
   "id": "fd055495",
   "metadata": {},
   "source": [
    "**Transforming bathroom_text data type**"
   ]
  },
  {
   "cell_type": "code",
   "execution_count": 49,
   "id": "c2bc0c7f",
   "metadata": {},
   "outputs": [
    {
     "data": {
      "text/plain": [
       "array(['1 bath', '1.5 baths', '15 baths', '1 private bath', '3 baths',\n",
       "       '7 baths', '4 baths', '2.5 baths', '2 baths', '5 shared baths',\n",
       "       '1 shared bath', '4.5 baths', '2 shared baths', '1.5 shared baths',\n",
       "       '3.5 baths', '0 shared baths', '5 baths', '0 baths',\n",
       "       '2.5 shared baths', '6 baths', 'Shared half-bath', '10 baths',\n",
       "       '8 baths', '3 shared baths', '6.5 baths', '5.5 baths',\n",
       "       '4 shared baths', '7.5 baths', 'Half-bath', '3.5 shared baths',\n",
       "       '7 shared baths', '11.5 baths', '20 shared baths', '20 baths',\n",
       "       '6.5 shared baths', '11 baths', '12 baths', '15.5 baths',\n",
       "       '8.5 baths', '6 shared baths', 'Private half-bath', '10.5 baths',\n",
       "       '13 baths', '9 baths', '4.5 shared baths', '18 baths',\n",
       "       '8.5 shared baths', '50 baths', '9.5 baths', '9 shared baths',\n",
       "       '8 shared baths', '5.5 shared baths'], dtype=object)"
      ]
     },
     "execution_count": 49,
     "metadata": {},
     "output_type": "execute_result"
    }
   ],
   "source": [
    "df['bathrooms_text'].unique()"
   ]
  },
  {
   "cell_type": "markdown",
   "id": "c69826c0",
   "metadata": {},
   "source": [
    "Rows that have 'Shared half-bath', 'Half-bath' or 'Private half-bath' in this column, do not have a numeric value for the number of bathrooms. As they are half-baths, bathrooms without a shower, we can assume that this is represeted in the data by the value 0.5."
   ]
  },
  {
   "cell_type": "code",
   "execution_count": 50,
   "id": "97d815bf",
   "metadata": {},
   "outputs": [],
   "source": [
    "half_baths = {'Shared half-bath': '0.5 shared half-bath', \n",
    "              'Half-bath': '0.5 half-bath',\n",
    "              'Private half-bath': '0.5 half-bath'}"
   ]
  },
  {
   "cell_type": "code",
   "execution_count": 51,
   "id": "2b5bf422",
   "metadata": {},
   "outputs": [],
   "source": [
    "df['bathrooms_text'].replace(half_baths, inplace=True)"
   ]
  },
  {
   "cell_type": "code",
   "execution_count": 52,
   "id": "50658420",
   "metadata": {},
   "outputs": [
    {
     "data": {
      "text/plain": [
       "array(['1 bath', '1.5 baths', '15 baths', '1 private bath', '3 baths',\n",
       "       '7 baths', '4 baths', '2.5 baths', '2 baths', '5 shared baths',\n",
       "       '1 shared bath', '4.5 baths', '2 shared baths', '1.5 shared baths',\n",
       "       '3.5 baths', '0 shared baths', '5 baths', '0 baths',\n",
       "       '2.5 shared baths', '6 baths', '0.5 shared half-bath', '10 baths',\n",
       "       '8 baths', '3 shared baths', '6.5 baths', '5.5 baths',\n",
       "       '4 shared baths', '7.5 baths', '0.5 half-bath', '3.5 shared baths',\n",
       "       '7 shared baths', '11.5 baths', '20 shared baths', '20 baths',\n",
       "       '6.5 shared baths', '11 baths', '12 baths', '15.5 baths',\n",
       "       '8.5 baths', '6 shared baths', '10.5 baths', '13 baths', '9 baths',\n",
       "       '4.5 shared baths', '18 baths', '8.5 shared baths', '50 baths',\n",
       "       '9.5 baths', '9 shared baths', '8 shared baths',\n",
       "       '5.5 shared baths'], dtype=object)"
      ]
     },
     "execution_count": 52,
     "metadata": {},
     "output_type": "execute_result"
    }
   ],
   "source": [
    "df['bathrooms_text'].unique()"
   ]
  },
  {
   "cell_type": "markdown",
   "id": "f05535fe",
   "metadata": {},
   "source": [
    "Creating a numeric column with the bathroom quantity."
   ]
  },
  {
   "cell_type": "code",
   "execution_count": 53,
   "id": "70bd9534",
   "metadata": {},
   "outputs": [],
   "source": [
    "def get_bath_qnt(bath_text):\n",
    "    bath_qnt = float(bath_text.split()[0])\n",
    "    return bath_qnt"
   ]
  },
  {
   "cell_type": "code",
   "execution_count": 56,
   "id": "b0cec54f",
   "metadata": {},
   "outputs": [],
   "source": [
    "df['bathrooms_quantity'] = df['bathrooms_text'].apply(get_bath_qnt)"
   ]
  },
  {
   "cell_type": "markdown",
   "id": "8dbba35a",
   "metadata": {},
   "source": [
    "### Dealing with irrealistic values"
   ]
  },
  {
   "cell_type": "code",
   "execution_count": 57,
   "id": "d3a51de7",
   "metadata": {},
   "outputs": [
    {
     "data": {
      "text/html": [
       "<div>\n",
       "<style scoped>\n",
       "    .dataframe tbody tr th:only-of-type {\n",
       "        vertical-align: middle;\n",
       "    }\n",
       "\n",
       "    .dataframe tbody tr th {\n",
       "        vertical-align: top;\n",
       "    }\n",
       "\n",
       "    .dataframe thead th {\n",
       "        text-align: right;\n",
       "    }\n",
       "</style>\n",
       "<table border=\"1\" class=\"dataframe\">\n",
       "  <thead>\n",
       "    <tr style=\"text-align: right;\">\n",
       "      <th></th>\n",
       "      <th>count</th>\n",
       "      <th>mean</th>\n",
       "      <th>std</th>\n",
       "      <th>min</th>\n",
       "      <th>25%</th>\n",
       "      <th>50%</th>\n",
       "      <th>75%</th>\n",
       "      <th>max</th>\n",
       "    </tr>\n",
       "  </thead>\n",
       "  <tbody>\n",
       "    <tr>\n",
       "      <th>latitude</th>\n",
       "      <td>23359.0</td>\n",
       "      <td>-22.966059</td>\n",
       "      <td>0.035449</td>\n",
       "      <td>-23.07267</td>\n",
       "      <td>-22.984710</td>\n",
       "      <td>-22.97205</td>\n",
       "      <td>-22.95159</td>\n",
       "      <td>-22.74969</td>\n",
       "    </tr>\n",
       "    <tr>\n",
       "      <th>longitude</th>\n",
       "      <td>23359.0</td>\n",
       "      <td>-43.248951</td>\n",
       "      <td>0.097368</td>\n",
       "      <td>-43.69889</td>\n",
       "      <td>-43.303725</td>\n",
       "      <td>-43.19628</td>\n",
       "      <td>-43.18619</td>\n",
       "      <td>-43.10440</td>\n",
       "    </tr>\n",
       "    <tr>\n",
       "      <th>accommodates</th>\n",
       "      <td>23359.0</td>\n",
       "      <td>4.135537</td>\n",
       "      <td>2.486378</td>\n",
       "      <td>0.00000</td>\n",
       "      <td>2.000000</td>\n",
       "      <td>4.00000</td>\n",
       "      <td>5.00000</td>\n",
       "      <td>16.00000</td>\n",
       "    </tr>\n",
       "    <tr>\n",
       "      <th>bedrooms</th>\n",
       "      <td>23359.0</td>\n",
       "      <td>1.663898</td>\n",
       "      <td>1.097098</td>\n",
       "      <td>1.00000</td>\n",
       "      <td>1.000000</td>\n",
       "      <td>1.00000</td>\n",
       "      <td>2.00000</td>\n",
       "      <td>47.00000</td>\n",
       "    </tr>\n",
       "    <tr>\n",
       "      <th>beds</th>\n",
       "      <td>23359.0</td>\n",
       "      <td>2.555460</td>\n",
       "      <td>2.270344</td>\n",
       "      <td>0.00000</td>\n",
       "      <td>1.000000</td>\n",
       "      <td>2.00000</td>\n",
       "      <td>3.00000</td>\n",
       "      <td>91.00000</td>\n",
       "    </tr>\n",
       "    <tr>\n",
       "      <th>price</th>\n",
       "      <td>23359.0</td>\n",
       "      <td>729.485509</td>\n",
       "      <td>4977.724917</td>\n",
       "      <td>0.00000</td>\n",
       "      <td>160.000000</td>\n",
       "      <td>286.00000</td>\n",
       "      <td>561.00000</td>\n",
       "      <td>637760.00000</td>\n",
       "    </tr>\n",
       "    <tr>\n",
       "      <th>minimum_nights</th>\n",
       "      <td>23359.0</td>\n",
       "      <td>5.316152</td>\n",
       "      <td>22.583058</td>\n",
       "      <td>1.00000</td>\n",
       "      <td>1.000000</td>\n",
       "      <td>3.00000</td>\n",
       "      <td>4.00000</td>\n",
       "      <td>1000.00000</td>\n",
       "    </tr>\n",
       "    <tr>\n",
       "      <th>maximum_nights</th>\n",
       "      <td>23359.0</td>\n",
       "      <td>621.391241</td>\n",
       "      <td>629.911228</td>\n",
       "      <td>1.00000</td>\n",
       "      <td>31.000000</td>\n",
       "      <td>1000.00000</td>\n",
       "      <td>1125.00000</td>\n",
       "      <td>47036.00000</td>\n",
       "    </tr>\n",
       "    <tr>\n",
       "      <th>number_of_reviews</th>\n",
       "      <td>23359.0</td>\n",
       "      <td>14.398990</td>\n",
       "      <td>33.709045</td>\n",
       "      <td>0.00000</td>\n",
       "      <td>0.000000</td>\n",
       "      <td>2.00000</td>\n",
       "      <td>11.00000</td>\n",
       "      <td>494.00000</td>\n",
       "    </tr>\n",
       "    <tr>\n",
       "      <th>reviews_per_month</th>\n",
       "      <td>23359.0</td>\n",
       "      <td>0.436532</td>\n",
       "      <td>0.814783</td>\n",
       "      <td>0.00000</td>\n",
       "      <td>0.000000</td>\n",
       "      <td>0.09000</td>\n",
       "      <td>0.52000</td>\n",
       "      <td>24.35000</td>\n",
       "    </tr>\n",
       "    <tr>\n",
       "      <th>bathrooms_quantity</th>\n",
       "      <td>23359.0</td>\n",
       "      <td>1.642643</td>\n",
       "      <td>1.102188</td>\n",
       "      <td>0.00000</td>\n",
       "      <td>1.000000</td>\n",
       "      <td>1.00000</td>\n",
       "      <td>2.00000</td>\n",
       "      <td>50.00000</td>\n",
       "    </tr>\n",
       "  </tbody>\n",
       "</table>\n",
       "</div>"
      ],
      "text/plain": [
       "                      count        mean          std       min         25%  \\\n",
       "latitude            23359.0  -22.966059     0.035449 -23.07267  -22.984710   \n",
       "longitude           23359.0  -43.248951     0.097368 -43.69889  -43.303725   \n",
       "accommodates        23359.0    4.135537     2.486378   0.00000    2.000000   \n",
       "bedrooms            23359.0    1.663898     1.097098   1.00000    1.000000   \n",
       "beds                23359.0    2.555460     2.270344   0.00000    1.000000   \n",
       "price               23359.0  729.485509  4977.724917   0.00000  160.000000   \n",
       "minimum_nights      23359.0    5.316152    22.583058   1.00000    1.000000   \n",
       "maximum_nights      23359.0  621.391241   629.911228   1.00000   31.000000   \n",
       "number_of_reviews   23359.0   14.398990    33.709045   0.00000    0.000000   \n",
       "reviews_per_month   23359.0    0.436532     0.814783   0.00000    0.000000   \n",
       "bathrooms_quantity  23359.0    1.642643     1.102188   0.00000    1.000000   \n",
       "\n",
       "                           50%         75%           max  \n",
       "latitude             -22.97205   -22.95159     -22.74969  \n",
       "longitude            -43.19628   -43.18619     -43.10440  \n",
       "accommodates           4.00000     5.00000      16.00000  \n",
       "bedrooms               1.00000     2.00000      47.00000  \n",
       "beds                   2.00000     3.00000      91.00000  \n",
       "price                286.00000   561.00000  637760.00000  \n",
       "minimum_nights         3.00000     4.00000    1000.00000  \n",
       "maximum_nights      1000.00000  1125.00000   47036.00000  \n",
       "number_of_reviews      2.00000    11.00000     494.00000  \n",
       "reviews_per_month      0.09000     0.52000      24.35000  \n",
       "bathrooms_quantity     1.00000     2.00000      50.00000  "
      ]
     },
     "execution_count": 57,
     "metadata": {},
     "output_type": "execute_result"
    }
   ],
   "source": [
    "df.describe().transpose()"
   ]
  },
  {
   "cell_type": "code",
   "execution_count": 64,
   "id": "99f21522",
   "metadata": {},
   "outputs": [
    {
     "data": {
      "text/plain": [
       "7"
      ]
     },
     "execution_count": 64,
     "metadata": {},
     "output_type": "execute_result"
    }
   ],
   "source": [
    "len(df[(df['accommodates'] == 0)])"
   ]
  },
  {
   "cell_type": "code",
   "execution_count": 60,
   "id": "3b754e10",
   "metadata": {},
   "outputs": [
    {
     "data": {
      "text/plain": [
       "7"
      ]
     },
     "execution_count": 60,
     "metadata": {},
     "output_type": "execute_result"
    }
   ],
   "source": [
    "len(df[df['price'] == 0])"
   ]
  },
  {
   "cell_type": "code",
   "execution_count": 65,
   "id": "ae06d7c0",
   "metadata": {},
   "outputs": [],
   "source": [
    "df.drop(df.index[df['price']==0], inplace=True)"
   ]
  },
  {
   "cell_type": "code",
   "execution_count": 66,
   "id": "769595ea",
   "metadata": {},
   "outputs": [
    {
     "data": {
      "text/plain": [
       "0"
      ]
     },
     "execution_count": 66,
     "metadata": {},
     "output_type": "execute_result"
    }
   ],
   "source": [
    "len(df[(df['accommodates'] == 0)])"
   ]
  },
  {
   "cell_type": "code",
   "execution_count": 67,
   "id": "35bdadee",
   "metadata": {},
   "outputs": [
    {
     "data": {
      "text/plain": [
       "0"
      ]
     },
     "execution_count": 67,
     "metadata": {},
     "output_type": "execute_result"
    }
   ],
   "source": [
    "len(df[df['price'] == 0])"
   ]
  },
  {
   "cell_type": "markdown",
   "id": "f3b7411f",
   "metadata": {},
   "source": [
    "### Dealing with outliers"
   ]
  },
  {
   "cell_type": "code",
   "execution_count": 42,
   "id": "31c76a7e",
   "metadata": {},
   "outputs": [
    {
     "data": {
      "text/plain": [
       "count     23359.000000\n",
       "mean        729.485509\n",
       "std        4977.724917\n",
       "min           0.000000\n",
       "25%         160.000000\n",
       "50%         286.000000\n",
       "75%         561.000000\n",
       "max      637760.000000\n",
       "Name: price, dtype: float64"
      ]
     },
     "execution_count": 42,
     "metadata": {},
     "output_type": "execute_result"
    }
   ],
   "source": [
    "df['price'].describe()"
   ]
  },
  {
   "cell_type": "code",
   "execution_count": 39,
   "id": "50f3f411",
   "metadata": {
    "scrolled": true
   },
   "outputs": [
    {
     "data": {
      "text/plain": [
       "<AxesSubplot:xlabel='price'>"
      ]
     },
     "execution_count": 39,
     "metadata": {},
     "output_type": "execute_result"
    },
    {
     "data": {
      "image/png": "[encoded data removed]",
      "text/plain": [
       "<Figure size 1440x360 with 1 Axes>"
      ]
     },
     "metadata": {
      "needs_background": "light"
     },
     "output_type": "display_data"
    }
   ],
   "source": [
    "plt.figure(figsize=(20,5))\n",
    "sns.boxplot(x='price', data=df)"
   ]
  },
  {
   "cell_type": "code",
   "execution_count": 43,
   "id": "e6116988",
   "metadata": {},
   "outputs": [
    {
     "data": {
      "text/html": [
       "<div>\n",
       "<style scoped>\n",
       "    .dataframe tbody tr th:only-of-type {\n",
       "        vertical-align: middle;\n",
       "    }\n",
       "\n",
       "    .dataframe tbody tr th {\n",
       "        vertical-align: top;\n",
       "    }\n",
       "\n",
       "    .dataframe thead th {\n",
       "        text-align: right;\n",
       "    }\n",
       "</style>\n",
       "<table border=\"1\" class=\"dataframe\">\n",
       "  <thead>\n",
       "    <tr style=\"text-align: right;\">\n",
       "      <th></th>\n",
       "      <th>host_is_superhost</th>\n",
       "      <th>host_identity_verified</th>\n",
       "      <th>neighbourhood_cleansed</th>\n",
       "      <th>latitude</th>\n",
       "      <th>longitude</th>\n",
       "      <th>property_type</th>\n",
       "      <th>room_type</th>\n",
       "      <th>accommodates</th>\n",
       "      <th>bathrooms_text</th>\n",
       "      <th>bedrooms</th>\n",
       "      <th>beds</th>\n",
       "      <th>amenities</th>\n",
       "      <th>price</th>\n",
       "      <th>minimum_nights</th>\n",
       "      <th>maximum_nights</th>\n",
       "      <th>number_of_reviews</th>\n",
       "      <th>instant_bookable</th>\n",
       "      <th>reviews_per_month</th>\n",
       "    </tr>\n",
       "  </thead>\n",
       "  <tbody>\n",
       "    <tr>\n",
       "      <th>7055</th>\n",
       "      <td>f</td>\n",
       "      <td>f</td>\n",
       "      <td>São Cristóvão</td>\n",
       "      <td>-22.89993</td>\n",
       "      <td>-43.23033</td>\n",
       "      <td>Shared room in residential home</td>\n",
       "      <td>Shared room</td>\n",
       "      <td>5</td>\n",
       "      <td>1 shared bath</td>\n",
       "      <td>1.0</td>\n",
       "      <td>4.0</td>\n",
       "      <td>[\"TV\", \"Kitchen\", \"Wifi\", \"Air conditioning\"]</td>\n",
       "      <td>637760.0</td>\n",
       "      <td>6</td>\n",
       "      <td>8</td>\n",
       "      <td>0</td>\n",
       "      <td>t</td>\n",
       "      <td>0.0</td>\n",
       "    </tr>\n",
       "  </tbody>\n",
       "</table>\n",
       "</div>"
      ],
      "text/plain": [
       "     host_is_superhost host_identity_verified neighbourhood_cleansed  \\\n",
       "7055                 f                      f          São Cristóvão   \n",
       "\n",
       "      latitude  longitude                    property_type    room_type  \\\n",
       "7055 -22.89993  -43.23033  Shared room in residential home  Shared room   \n",
       "\n",
       "      accommodates bathrooms_text  bedrooms  beds  \\\n",
       "7055             5  1 shared bath       1.0   4.0   \n",
       "\n",
       "                                          amenities     price  minimum_nights  \\\n",
       "7055  [\"TV\", \"Kitchen\", \"Wifi\", \"Air conditioning\"]  637760.0               6   \n",
       "\n",
       "      maximum_nights  number_of_reviews instant_bookable  reviews_per_month  \n",
       "7055               8                  0                t                0.0  "
      ]
     },
     "execution_count": 43,
     "metadata": {},
     "output_type": "execute_result"
    }
   ],
   "source": [
    "df[df['price']==637760]"
   ]
  },
  {
   "cell_type": "code",
   "execution_count": 44,
   "id": "5d03c2ea",
   "metadata": {},
   "outputs": [
    {
     "data": {
      "text/plain": [
       "(0.0, 1500.0)"
      ]
     },
     "execution_count": 44,
     "metadata": {},
     "output_type": "execute_result"
    },
    {
     "data": {
      "image/png": "[encoded data removed]",
      "text/plain": [
       "<Figure size 1440x360 with 1 Axes>"
      ]
     },
     "metadata": {
      "needs_background": "light"
     },
     "output_type": "display_data"
    }
   ],
   "source": [
    "plt.figure(figsize=(20,5))\n",
    "sns.boxplot(x='price', data=df)\n",
    "plt.xlim(0,1500)"
   ]
  },
  {
   "cell_type": "code",
   "execution_count": 68,
   "id": "0e609454",
   "metadata": {},
   "outputs": [],
   "source": [
    "def outliers(s):\n",
    "    iqr = (np.quantile(s, 0.75))-(np.quantile(s, 0.25))\n",
    "    upper_bound = np.quantile(s, 0.75)+(1.5*iqr)\n",
    "    lower_bound = np.quantile(s, 0.25)-(1.5*iqr)\n",
    "    f = []\n",
    "    for i in s:\n",
    "        if i > upper_bound:\n",
    "            f.append(i)\n",
    "        elif i < lower_bound:\n",
    "            f.append(i)\n",
    "    sums = len(f)\n",
    "    pros = len(f)/len(s)*100\n",
    "    d = {'IQR':iqr,\n",
    "         'Upper Bound':upper_bound,\n",
    "         'Lower Bound':lower_bound,\n",
    "         'Sum outliers': sums,\n",
    "         'percentage outliers':pros}\n",
    "    d = pd.DataFrame(d.items(),columns = ['sub','values'])\n",
    "    return(d)"
   ]
  },
  {
   "cell_type": "code",
   "execution_count": 69,
   "id": "8476b8a9",
   "metadata": {},
   "outputs": [
    {
     "data": {
      "text/html": [
       "<div>\n",
       "<style scoped>\n",
       "    .dataframe tbody tr th:only-of-type {\n",
       "        vertical-align: middle;\n",
       "    }\n",
       "\n",
       "    .dataframe tbody tr th {\n",
       "        vertical-align: top;\n",
       "    }\n",
       "\n",
       "    .dataframe thead th {\n",
       "        text-align: right;\n",
       "    }\n",
       "</style>\n",
       "<table border=\"1\" class=\"dataframe\">\n",
       "  <thead>\n",
       "    <tr style=\"text-align: right;\">\n",
       "      <th></th>\n",
       "      <th>sub</th>\n",
       "      <th>values</th>\n",
       "    </tr>\n",
       "  </thead>\n",
       "  <tbody>\n",
       "    <tr>\n",
       "      <th>0</th>\n",
       "      <td>IQR</td>\n",
       "      <td>401.000000</td>\n",
       "    </tr>\n",
       "    <tr>\n",
       "      <th>1</th>\n",
       "      <td>Upper Bound</td>\n",
       "      <td>1162.500000</td>\n",
       "    </tr>\n",
       "    <tr>\n",
       "      <th>2</th>\n",
       "      <td>Lower Bound</td>\n",
       "      <td>-441.500000</td>\n",
       "    </tr>\n",
       "    <tr>\n",
       "      <th>3</th>\n",
       "      <td>Sum outliers</td>\n",
       "      <td>2502.000000</td>\n",
       "    </tr>\n",
       "    <tr>\n",
       "      <th>4</th>\n",
       "      <td>percentage outliers</td>\n",
       "      <td>10.714286</td>\n",
       "    </tr>\n",
       "  </tbody>\n",
       "</table>\n",
       "</div>"
      ],
      "text/plain": [
       "                   sub       values\n",
       "0                  IQR   401.000000\n",
       "1          Upper Bound  1162.500000\n",
       "2          Lower Bound  -441.500000\n",
       "3         Sum outliers  2502.000000\n",
       "4  percentage outliers    10.714286"
      ]
     },
     "execution_count": 69,
     "metadata": {},
     "output_type": "execute_result"
    }
   ],
   "source": [
    "outliers(df['price'])"
   ]
  },
  {
   "cell_type": "code",
   "execution_count": 70,
   "id": "01e08145",
   "metadata": {},
   "outputs": [],
   "source": [
    "upper_bound = 1162.500000\n",
    "\n",
    "df = df[df['price'] <= upper_bound]"
   ]
  },
  {
   "cell_type": "code",
   "execution_count": 71,
   "id": "56b97088",
   "metadata": {},
   "outputs": [
    {
     "data": {
      "text/plain": [
       "<AxesSubplot:xlabel='price'>"
      ]
     },
     "execution_count": 71,
     "metadata": {},
     "output_type": "execute_result"
    },
    {
     "data": {
      "image/png": "[encoded data removed]",
      "text/plain": [
       "<Figure size 432x288 with 1 Axes>"
      ]
     },
     "metadata": {
      "needs_background": "light"
     },
     "output_type": "display_data"
    }
   ],
   "source": [
    "sns.boxplot(x='price', data=df)"
   ]
  },
  {
   "cell_type": "code",
   "execution_count": 72,
   "id": "e7fdf4ea",
   "metadata": {},
   "outputs": [
    {
     "data": {
      "text/plain": [
       "20850"
      ]
     },
     "execution_count": 72,
     "metadata": {},
     "output_type": "execute_result"
    }
   ],
   "source": [
    "len(df)"
   ]
  },
  {
   "cell_type": "code",
   "execution_count": null,
   "id": "d8afe03e",
   "metadata": {},
   "outputs": [],
   "source": []
  },
  {
   "cell_type": "code",
   "execution_count": null,
   "id": "ac36f730",
   "metadata": {},
   "outputs": [],
   "source": []
  },
  {
   "cell_type": "markdown",
   "id": "c7833d15",
   "metadata": {},
   "source": [
    "https://www.airbnb.com.br/resources/hosting-homes/a/the-best-amenities-to-offer-right-now-203?_set_bev_on_new_domain=1643122576_ZWFiMmI3MDg5OTAw#:~:text=The%20most%20popular%20amenities%20right%20now%20include%20a,Update%20your%20listing%20to%20reflect%20your%20current%20amenities"
   ]
  }
 ],
 "metadata": {
  "kernelspec": {
   "display_name": "Python 3",
   "language": "python",
   "name": "python3"
  },
  "language_info": {
   "codemirror_mode": {
    "name": "ipython",
    "version": 3
   },
   "file_extension": ".py",
   "mimetype": "text/x-python",
   "name": "python",
   "nbconvert_exporter": "python",
   "pygments_lexer": "ipython3",
   "version": "3.8.8"
  }
 },
 "nbformat": 4,
 "nbformat_minor": 5
}
