{
 "cells": [
  {
   "cell_type": "markdown",
   "id": "2a0513de",
   "metadata": {},
   "source": [
    "# Airbnb no Rio de Janeiro - Limpeza de Dados"
   ]
  },
  {
   "cell_type": "markdown",
   "id": "e4e069f1",
   "metadata": {},
   "source": [
    "Os dados desse projeto foram retirados do site: [Inside Airbnb](http://insideairbnb.com/get-the-data.html), que disponibliza datasets de dados coletados do próprio site do Airbnb. \n",
    "\n",
    "Foi utilizado um dataset referente aos dados de Airbnb no Rio de Janeiro - RJ. "
   ]
  },
  {
   "cell_type": "code",
   "execution_count": 1,
   "id": "51b5e1c1",
   "metadata": {},
   "outputs": [],
   "source": [
    "import pandas as pd\n",
    "import numpy as np"
   ]
  },
  {
   "cell_type": "code",
   "execution_count": 2,
   "id": "579eaf2f",
   "metadata": {},
   "outputs": [],
   "source": [
    "df = pd.read_csv('data/listings.csv')"
   ]
  },
  {
   "cell_type": "code",
   "execution_count": 3,
   "id": "25a27a40",
   "metadata": {},
   "outputs": [
    {
     "data": {
      "text/html": [
       "<div>\n",
       "<style scoped>\n",
       "    .dataframe tbody tr th:only-of-type {\n",
       "        vertical-align: middle;\n",
       "    }\n",
       "\n",
       "    .dataframe tbody tr th {\n",
       "        vertical-align: top;\n",
       "    }\n",
       "\n",
       "    .dataframe thead th {\n",
       "        text-align: right;\n",
       "    }\n",
       "</style>\n",
       "<table border=\"1\" class=\"dataframe\">\n",
       "  <thead>\n",
       "    <tr style=\"text-align: right;\">\n",
       "      <th></th>\n",
       "      <th>id</th>\n",
       "      <th>listing_url</th>\n",
       "      <th>scrape_id</th>\n",
       "      <th>last_scraped</th>\n",
       "      <th>name</th>\n",
       "      <th>description</th>\n",
       "      <th>neighborhood_overview</th>\n",
       "      <th>picture_url</th>\n",
       "      <th>host_id</th>\n",
       "      <th>host_url</th>\n",
       "      <th>...</th>\n",
       "      <th>review_scores_communication</th>\n",
       "      <th>review_scores_location</th>\n",
       "      <th>review_scores_value</th>\n",
       "      <th>license</th>\n",
       "      <th>instant_bookable</th>\n",
       "      <th>calculated_host_listings_count</th>\n",
       "      <th>calculated_host_listings_count_entire_homes</th>\n",
       "      <th>calculated_host_listings_count_private_rooms</th>\n",
       "      <th>calculated_host_listings_count_shared_rooms</th>\n",
       "      <th>reviews_per_month</th>\n",
       "    </tr>\n",
       "  </thead>\n",
       "  <tbody>\n",
       "    <tr>\n",
       "      <th>0</th>\n",
       "      <td>17878</td>\n",
       "      <td>https://www.airbnb.com/rooms/17878</td>\n",
       "      <td>20211026045247</td>\n",
       "      <td>2021-10-26</td>\n",
       "      <td>Very Nice 2Br in Copacabana w. balcony, fast WiFi</td>\n",
       "      <td>Discounts for long term stays. &lt;br /&gt;- Large b...</td>\n",
       "      <td>This is the one of the bests spots in Rio. Bec...</td>\n",
       "      <td>https://a0.muscache.com/pictures/65320518/3069...</td>\n",
       "      <td>68997</td>\n",
       "      <td>https://www.airbnb.com/users/show/68997</td>\n",
       "      <td>...</td>\n",
       "      <td>4.90</td>\n",
       "      <td>4.76</td>\n",
       "      <td>4.65</td>\n",
       "      <td>NaN</td>\n",
       "      <td>f</td>\n",
       "      <td>1</td>\n",
       "      <td>1</td>\n",
       "      <td>0</td>\n",
       "      <td>0</td>\n",
       "      <td>2.07</td>\n",
       "    </tr>\n",
       "    <tr>\n",
       "      <th>1</th>\n",
       "      <td>24480</td>\n",
       "      <td>https://www.airbnb.com/rooms/24480</td>\n",
       "      <td>20211026045247</td>\n",
       "      <td>2021-10-26</td>\n",
       "      <td>Nice and cozy near Ipanema Beach, w/ home office</td>\n",
       "      <td>My studio is located in the best of Ipanema, t...</td>\n",
       "      <td>The beach, the lagoon, Ipanema is a great loca...</td>\n",
       "      <td>https://a0.muscache.com/pictures/11955612/b28e...</td>\n",
       "      <td>99249</td>\n",
       "      <td>https://www.airbnb.com/users/show/99249</td>\n",
       "      <td>...</td>\n",
       "      <td>4.90</td>\n",
       "      <td>4.97</td>\n",
       "      <td>4.58</td>\n",
       "      <td>NaN</td>\n",
       "      <td>f</td>\n",
       "      <td>1</td>\n",
       "      <td>1</td>\n",
       "      <td>0</td>\n",
       "      <td>0</td>\n",
       "      <td>0.85</td>\n",
       "    </tr>\n",
       "    <tr>\n",
       "      <th>2</th>\n",
       "      <td>25026</td>\n",
       "      <td>https://www.airbnb.com/rooms/25026</td>\n",
       "      <td>20211026045247</td>\n",
       "      <td>2021-10-26</td>\n",
       "      <td>Beautiful Modern Decorated Studio in Copa</td>\n",
       "      <td>Our apartment is a little gem, everyone loves ...</td>\n",
       "      <td>Copacabana is a lively neighborhood and the ap...</td>\n",
       "      <td>https://a0.muscache.com/pictures/3003965/68ebb...</td>\n",
       "      <td>102840</td>\n",
       "      <td>https://www.airbnb.com/users/show/102840</td>\n",
       "      <td>...</td>\n",
       "      <td>4.90</td>\n",
       "      <td>4.81</td>\n",
       "      <td>4.56</td>\n",
       "      <td>NaN</td>\n",
       "      <td>f</td>\n",
       "      <td>1</td>\n",
       "      <td>1</td>\n",
       "      <td>0</td>\n",
       "      <td>0</td>\n",
       "      <td>1.84</td>\n",
       "    </tr>\n",
       "    <tr>\n",
       "      <th>3</th>\n",
       "      <td>35636</td>\n",
       "      <td>https://www.airbnb.com/rooms/35636</td>\n",
       "      <td>20211026045247</td>\n",
       "      <td>2021-10-27</td>\n",
       "      <td>Cosy flat close to Ipanema beach</td>\n",
       "      <td>This cosy apartment  is just a few steps away ...</td>\n",
       "      <td>The  apartment street is very quiet and safe ....</td>\n",
       "      <td>https://a0.muscache.com/pictures/20009355/38b6...</td>\n",
       "      <td>153232</td>\n",
       "      <td>https://www.airbnb.com/users/show/153232</td>\n",
       "      <td>...</td>\n",
       "      <td>4.88</td>\n",
       "      <td>4.90</td>\n",
       "      <td>4.65</td>\n",
       "      <td>NaN</td>\n",
       "      <td>f</td>\n",
       "      <td>1</td>\n",
       "      <td>1</td>\n",
       "      <td>0</td>\n",
       "      <td>0</td>\n",
       "      <td>1.90</td>\n",
       "    </tr>\n",
       "    <tr>\n",
       "      <th>4</th>\n",
       "      <td>35764</td>\n",
       "      <td>https://www.airbnb.com/rooms/35764</td>\n",
       "      <td>20211026045247</td>\n",
       "      <td>2021-10-26</td>\n",
       "      <td>COPACABANA SEA BREEZE  -  RIO - 20 X Superhost</td>\n",
       "      <td>Our newly renovated studio is located in the b...</td>\n",
       "      <td>Our guests will experience living with a local...</td>\n",
       "      <td>https://a0.muscache.com/pictures/23782972/1d3e...</td>\n",
       "      <td>153691</td>\n",
       "      <td>https://www.airbnb.com/users/show/153691</td>\n",
       "      <td>...</td>\n",
       "      <td>4.94</td>\n",
       "      <td>4.94</td>\n",
       "      <td>4.87</td>\n",
       "      <td>NaN</td>\n",
       "      <td>f</td>\n",
       "      <td>1</td>\n",
       "      <td>1</td>\n",
       "      <td>0</td>\n",
       "      <td>0</td>\n",
       "      <td>3.05</td>\n",
       "    </tr>\n",
       "  </tbody>\n",
       "</table>\n",
       "<p>5 rows × 74 columns</p>\n",
       "</div>"
      ],
      "text/plain": [
       "      id                         listing_url       scrape_id last_scraped  \\\n",
       "0  17878  https://www.airbnb.com/rooms/17878  20211026045247   2021-10-26   \n",
       "1  24480  https://www.airbnb.com/rooms/24480  20211026045247   2021-10-26   \n",
       "2  25026  https://www.airbnb.com/rooms/25026  20211026045247   2021-10-26   \n",
       "3  35636  https://www.airbnb.com/rooms/35636  20211026045247   2021-10-27   \n",
       "4  35764  https://www.airbnb.com/rooms/35764  20211026045247   2021-10-26   \n",
       "\n",
       "                                                name  \\\n",
       "0  Very Nice 2Br in Copacabana w. balcony, fast WiFi   \n",
       "1   Nice and cozy near Ipanema Beach, w/ home office   \n",
       "2          Beautiful Modern Decorated Studio in Copa   \n",
       "3                   Cosy flat close to Ipanema beach   \n",
       "4     COPACABANA SEA BREEZE  -  RIO - 20 X Superhost   \n",
       "\n",
       "                                         description  \\\n",
       "0  Discounts for long term stays. <br />- Large b...   \n",
       "1  My studio is located in the best of Ipanema, t...   \n",
       "2  Our apartment is a little gem, everyone loves ...   \n",
       "3  This cosy apartment  is just a few steps away ...   \n",
       "4  Our newly renovated studio is located in the b...   \n",
       "\n",
       "                               neighborhood_overview  \\\n",
       "0  This is the one of the bests spots in Rio. Bec...   \n",
       "1  The beach, the lagoon, Ipanema is a great loca...   \n",
       "2  Copacabana is a lively neighborhood and the ap...   \n",
       "3  The  apartment street is very quiet and safe ....   \n",
       "4  Our guests will experience living with a local...   \n",
       "\n",
       "                                         picture_url  host_id  \\\n",
       "0  https://a0.muscache.com/pictures/65320518/3069...    68997   \n",
       "1  https://a0.muscache.com/pictures/11955612/b28e...    99249   \n",
       "2  https://a0.muscache.com/pictures/3003965/68ebb...   102840   \n",
       "3  https://a0.muscache.com/pictures/20009355/38b6...   153232   \n",
       "4  https://a0.muscache.com/pictures/23782972/1d3e...   153691   \n",
       "\n",
       "                                   host_url  ... review_scores_communication  \\\n",
       "0   https://www.airbnb.com/users/show/68997  ...                        4.90   \n",
       "1   https://www.airbnb.com/users/show/99249  ...                        4.90   \n",
       "2  https://www.airbnb.com/users/show/102840  ...                        4.90   \n",
       "3  https://www.airbnb.com/users/show/153232  ...                        4.88   \n",
       "4  https://www.airbnb.com/users/show/153691  ...                        4.94   \n",
       "\n",
       "  review_scores_location review_scores_value license instant_bookable  \\\n",
       "0                   4.76                4.65     NaN                f   \n",
       "1                   4.97                4.58     NaN                f   \n",
       "2                   4.81                4.56     NaN                f   \n",
       "3                   4.90                4.65     NaN                f   \n",
       "4                   4.94                4.87     NaN                f   \n",
       "\n",
       "  calculated_host_listings_count calculated_host_listings_count_entire_homes  \\\n",
       "0                              1                                           1   \n",
       "1                              1                                           1   \n",
       "2                              1                                           1   \n",
       "3                              1                                           1   \n",
       "4                              1                                           1   \n",
       "\n",
       "  calculated_host_listings_count_private_rooms  \\\n",
       "0                                            0   \n",
       "1                                            0   \n",
       "2                                            0   \n",
       "3                                            0   \n",
       "4                                            0   \n",
       "\n",
       "  calculated_host_listings_count_shared_rooms reviews_per_month  \n",
       "0                                           0              2.07  \n",
       "1                                           0              0.85  \n",
       "2                                           0              1.84  \n",
       "3                                           0              1.90  \n",
       "4                                           0              3.05  \n",
       "\n",
       "[5 rows x 74 columns]"
      ]
     },
     "execution_count": 3,
     "metadata": {},
     "output_type": "execute_result"
    }
   ],
   "source": [
    "df.head()"
   ]
  },
  {
   "cell_type": "code",
   "execution_count": 4,
   "id": "1f944ce8",
   "metadata": {},
   "outputs": [
    {
     "name": "stdout",
     "output_type": "stream",
     "text": [
      "<class 'pandas.core.frame.DataFrame'>\n",
      "RangeIndex: 23359 entries, 0 to 23358\n",
      "Data columns (total 74 columns):\n",
      " #   Column                                        Non-Null Count  Dtype  \n",
      "---  ------                                        --------------  -----  \n",
      " 0   id                                            23359 non-null  int64  \n",
      " 1   listing_url                                   23359 non-null  object \n",
      " 2   scrape_id                                     23359 non-null  int64  \n",
      " 3   last_scraped                                  23359 non-null  object \n",
      " 4   name                                          23338 non-null  object \n",
      " 5   description                                   22137 non-null  object \n",
      " 6   neighborhood_overview                         12726 non-null  object \n",
      " 7   picture_url                                   23359 non-null  object \n",
      " 8   host_id                                       23359 non-null  int64  \n",
      " 9   host_url                                      23359 non-null  object \n",
      " 10  host_name                                     23354 non-null  object \n",
      " 11  host_since                                    23354 non-null  object \n",
      " 12  host_location                                 23281 non-null  object \n",
      " 13  host_about                                    11499 non-null  object \n",
      " 14  host_response_time                            16593 non-null  object \n",
      " 15  host_response_rate                            16593 non-null  object \n",
      " 16  host_acceptance_rate                          14990 non-null  object \n",
      " 17  host_is_superhost                             23354 non-null  object \n",
      " 18  host_thumbnail_url                            23354 non-null  object \n",
      " 19  host_picture_url                              23354 non-null  object \n",
      " 20  host_neighbourhood                            12738 non-null  object \n",
      " 21  host_listings_count                           23354 non-null  float64\n",
      " 22  host_total_listings_count                     23354 non-null  float64\n",
      " 23  host_verifications                            23359 non-null  object \n",
      " 24  host_has_profile_pic                          23354 non-null  object \n",
      " 25  host_identity_verified                        23354 non-null  object \n",
      " 26  neighbourhood                                 12726 non-null  object \n",
      " 27  neighbourhood_cleansed                        23359 non-null  object \n",
      " 28  neighbourhood_group_cleansed                  0 non-null      float64\n",
      " 29  latitude                                      23359 non-null  float64\n",
      " 30  longitude                                     23359 non-null  float64\n",
      " 31  property_type                                 23359 non-null  object \n",
      " 32  room_type                                     23359 non-null  object \n",
      " 33  accommodates                                  23359 non-null  int64  \n",
      " 34  bathrooms                                     0 non-null      float64\n",
      " 35  bathrooms_text                                23291 non-null  object \n",
      " 36  bedrooms                                      21871 non-null  float64\n",
      " 37  beds                                          23167 non-null  float64\n",
      " 38  amenities                                     23359 non-null  object \n",
      " 39  price                                         23359 non-null  object \n",
      " 40  minimum_nights                                23359 non-null  int64  \n",
      " 41  maximum_nights                                23359 non-null  int64  \n",
      " 42  minimum_minimum_nights                        23359 non-null  int64  \n",
      " 43  maximum_minimum_nights                        23359 non-null  int64  \n",
      " 44  minimum_maximum_nights                        23359 non-null  int64  \n",
      " 45  maximum_maximum_nights                        23359 non-null  int64  \n",
      " 46  minimum_nights_avg_ntm                        23359 non-null  float64\n",
      " 47  maximum_nights_avg_ntm                        23359 non-null  float64\n",
      " 48  calendar_updated                              0 non-null      float64\n",
      " 49  has_availability                              23359 non-null  object \n",
      " 50  availability_30                               23359 non-null  int64  \n",
      " 51  availability_60                               23359 non-null  int64  \n",
      " 52  availability_90                               23359 non-null  int64  \n",
      " 53  availability_365                              23359 non-null  int64  \n",
      " 54  calendar_last_scraped                         23359 non-null  object \n",
      " 55  number_of_reviews                             23359 non-null  int64  \n",
      " 56  number_of_reviews_ltm                         23359 non-null  int64  \n",
      " 57  number_of_reviews_l30d                        23359 non-null  int64  \n",
      " 58  first_review                                  15107 non-null  object \n",
      " 59  last_review                                   15107 non-null  object \n",
      " 60  review_scores_rating                          15107 non-null  float64\n",
      " 61  review_scores_accuracy                        14679 non-null  float64\n",
      " 62  review_scores_cleanliness                     14679 non-null  float64\n",
      " 63  review_scores_checkin                         14679 non-null  float64\n",
      " 64  review_scores_communication                   14681 non-null  float64\n",
      " 65  review_scores_location                        14679 non-null  float64\n",
      " 66  review_scores_value                           14681 non-null  float64\n",
      " 67  license                                       0 non-null      float64\n",
      " 68  instant_bookable                              23359 non-null  object \n",
      " 69  calculated_host_listings_count                23359 non-null  int64  \n",
      " 70  calculated_host_listings_count_entire_homes   23359 non-null  int64  \n",
      " 71  calculated_host_listings_count_private_rooms  23359 non-null  int64  \n",
      " 72  calculated_host_listings_count_shared_rooms   23359 non-null  int64  \n",
      " 73  reviews_per_month                             15107 non-null  float64\n",
      "dtypes: float64(20), int64(21), object(33)\n",
      "memory usage: 13.2+ MB\n"
     ]
    }
   ],
   "source": [
    "df.info()"
   ]
  },
  {
   "cell_type": "markdown",
   "id": "8284bc7e",
   "metadata": {},
   "source": [
    "**Criação de um DataFrame somente com as colunas que serão utilizadas**"
   ]
  },
  {
   "cell_type": "code",
   "execution_count": 5,
   "id": "e509ddc3",
   "metadata": {},
   "outputs": [],
   "source": [
    "df = df[['id', 'name', 'host_id', 'neighbourhood_cleansed', 'latitude', 'longitude', \n",
    "         'property_type', 'room_type', 'accommodates', 'bathrooms_text', 'bedrooms', \n",
    "         'beds', 'price', 'minimum_nights', 'maximum_nights', 'number_of_reviews', \n",
    "         'reviews_per_month']]"
   ]
  },
  {
   "cell_type": "code",
   "execution_count": 6,
   "id": "8258b3c2",
   "metadata": {},
   "outputs": [
    {
     "data": {
      "text/html": [
       "<div>\n",
       "<style scoped>\n",
       "    .dataframe tbody tr th:only-of-type {\n",
       "        vertical-align: middle;\n",
       "    }\n",
       "\n",
       "    .dataframe tbody tr th {\n",
       "        vertical-align: top;\n",
       "    }\n",
       "\n",
       "    .dataframe thead th {\n",
       "        text-align: right;\n",
       "    }\n",
       "</style>\n",
       "<table border=\"1\" class=\"dataframe\">\n",
       "  <thead>\n",
       "    <tr style=\"text-align: right;\">\n",
       "      <th></th>\n",
       "      <th>id</th>\n",
       "      <th>name</th>\n",
       "      <th>host_id</th>\n",
       "      <th>neighbourhood_cleansed</th>\n",
       "      <th>latitude</th>\n",
       "      <th>longitude</th>\n",
       "      <th>property_type</th>\n",
       "      <th>room_type</th>\n",
       "      <th>accommodates</th>\n",
       "      <th>bathrooms_text</th>\n",
       "      <th>bedrooms</th>\n",
       "      <th>beds</th>\n",
       "      <th>price</th>\n",
       "      <th>minimum_nights</th>\n",
       "      <th>maximum_nights</th>\n",
       "      <th>number_of_reviews</th>\n",
       "      <th>reviews_per_month</th>\n",
       "    </tr>\n",
       "  </thead>\n",
       "  <tbody>\n",
       "    <tr>\n",
       "      <th>0</th>\n",
       "      <td>17878</td>\n",
       "      <td>Very Nice 2Br in Copacabana w. balcony, fast WiFi</td>\n",
       "      <td>68997</td>\n",
       "      <td>Copacabana</td>\n",
       "      <td>-22.96599</td>\n",
       "      <td>-43.17940</td>\n",
       "      <td>Entire condominium (condo)</td>\n",
       "      <td>Entire home/apt</td>\n",
       "      <td>5</td>\n",
       "      <td>1 bath</td>\n",
       "      <td>2.0</td>\n",
       "      <td>2.0</td>\n",
       "      <td>$350.00</td>\n",
       "      <td>5</td>\n",
       "      <td>180</td>\n",
       "      <td>266</td>\n",
       "      <td>2.07</td>\n",
       "    </tr>\n",
       "    <tr>\n",
       "      <th>1</th>\n",
       "      <td>24480</td>\n",
       "      <td>Nice and cozy near Ipanema Beach, w/ home office</td>\n",
       "      <td>99249</td>\n",
       "      <td>Ipanema</td>\n",
       "      <td>-22.98405</td>\n",
       "      <td>-43.20189</td>\n",
       "      <td>Entire rental unit</td>\n",
       "      <td>Entire home/apt</td>\n",
       "      <td>2</td>\n",
       "      <td>1 bath</td>\n",
       "      <td>1.0</td>\n",
       "      <td>1.0</td>\n",
       "      <td>$296.00</td>\n",
       "      <td>3</td>\n",
       "      <td>90</td>\n",
       "      <td>85</td>\n",
       "      <td>0.85</td>\n",
       "    </tr>\n",
       "    <tr>\n",
       "      <th>2</th>\n",
       "      <td>25026</td>\n",
       "      <td>Beautiful Modern Decorated Studio in Copa</td>\n",
       "      <td>102840</td>\n",
       "      <td>Copacabana</td>\n",
       "      <td>-22.97735</td>\n",
       "      <td>-43.19105</td>\n",
       "      <td>Entire rental unit</td>\n",
       "      <td>Entire home/apt</td>\n",
       "      <td>2</td>\n",
       "      <td>1 bath</td>\n",
       "      <td>1.0</td>\n",
       "      <td>1.0</td>\n",
       "      <td>$168.00</td>\n",
       "      <td>4</td>\n",
       "      <td>90</td>\n",
       "      <td>238</td>\n",
       "      <td>1.84</td>\n",
       "    </tr>\n",
       "    <tr>\n",
       "      <th>3</th>\n",
       "      <td>35636</td>\n",
       "      <td>Cosy flat close to Ipanema beach</td>\n",
       "      <td>153232</td>\n",
       "      <td>Ipanema</td>\n",
       "      <td>-22.98839</td>\n",
       "      <td>-43.19232</td>\n",
       "      <td>Entire rental unit</td>\n",
       "      <td>Entire home/apt</td>\n",
       "      <td>2</td>\n",
       "      <td>1.5 baths</td>\n",
       "      <td>1.0</td>\n",
       "      <td>1.0</td>\n",
       "      <td>$278.00</td>\n",
       "      <td>2</td>\n",
       "      <td>89</td>\n",
       "      <td>181</td>\n",
       "      <td>1.90</td>\n",
       "    </tr>\n",
       "    <tr>\n",
       "      <th>4</th>\n",
       "      <td>35764</td>\n",
       "      <td>COPACABANA SEA BREEZE  -  RIO - 20 X Superhost</td>\n",
       "      <td>153691</td>\n",
       "      <td>Copacabana</td>\n",
       "      <td>-22.98107</td>\n",
       "      <td>-43.19136</td>\n",
       "      <td>Entire loft</td>\n",
       "      <td>Entire home/apt</td>\n",
       "      <td>2</td>\n",
       "      <td>1.5 baths</td>\n",
       "      <td>1.0</td>\n",
       "      <td>1.0</td>\n",
       "      <td>$150.00</td>\n",
       "      <td>3</td>\n",
       "      <td>15</td>\n",
       "      <td>373</td>\n",
       "      <td>3.05</td>\n",
       "    </tr>\n",
       "  </tbody>\n",
       "</table>\n",
       "</div>"
      ],
      "text/plain": [
       "      id                                               name  host_id  \\\n",
       "0  17878  Very Nice 2Br in Copacabana w. balcony, fast WiFi    68997   \n",
       "1  24480   Nice and cozy near Ipanema Beach, w/ home office    99249   \n",
       "2  25026          Beautiful Modern Decorated Studio in Copa   102840   \n",
       "3  35636                   Cosy flat close to Ipanema beach   153232   \n",
       "4  35764     COPACABANA SEA BREEZE  -  RIO - 20 X Superhost   153691   \n",
       "\n",
       "  neighbourhood_cleansed  latitude  longitude               property_type  \\\n",
       "0             Copacabana -22.96599  -43.17940  Entire condominium (condo)   \n",
       "1                Ipanema -22.98405  -43.20189          Entire rental unit   \n",
       "2             Copacabana -22.97735  -43.19105          Entire rental unit   \n",
       "3                Ipanema -22.98839  -43.19232          Entire rental unit   \n",
       "4             Copacabana -22.98107  -43.19136                 Entire loft   \n",
       "\n",
       "         room_type  accommodates bathrooms_text  bedrooms  beds    price  \\\n",
       "0  Entire home/apt             5         1 bath       2.0   2.0  $350.00   \n",
       "1  Entire home/apt             2         1 bath       1.0   1.0  $296.00   \n",
       "2  Entire home/apt             2         1 bath       1.0   1.0  $168.00   \n",
       "3  Entire home/apt             2      1.5 baths       1.0   1.0  $278.00   \n",
       "4  Entire home/apt             2      1.5 baths       1.0   1.0  $150.00   \n",
       "\n",
       "   minimum_nights  maximum_nights  number_of_reviews  reviews_per_month  \n",
       "0               5             180                266               2.07  \n",
       "1               3              90                 85               0.85  \n",
       "2               4              90                238               1.84  \n",
       "3               2              89                181               1.90  \n",
       "4               3              15                373               3.05  "
      ]
     },
     "execution_count": 6,
     "metadata": {},
     "output_type": "execute_result"
    }
   ],
   "source": [
    "df.head()"
   ]
  },
  {
   "cell_type": "code",
   "execution_count": 7,
   "id": "35816f0e",
   "metadata": {},
   "outputs": [
    {
     "name": "stdout",
     "output_type": "stream",
     "text": [
      "<class 'pandas.core.frame.DataFrame'>\n",
      "RangeIndex: 23359 entries, 0 to 23358\n",
      "Data columns (total 17 columns):\n",
      " #   Column                  Non-Null Count  Dtype  \n",
      "---  ------                  --------------  -----  \n",
      " 0   id                      23359 non-null  int64  \n",
      " 1   name                    23338 non-null  object \n",
      " 2   host_id                 23359 non-null  int64  \n",
      " 3   neighbourhood_cleansed  23359 non-null  object \n",
      " 4   latitude                23359 non-null  float64\n",
      " 5   longitude               23359 non-null  float64\n",
      " 6   property_type           23359 non-null  object \n",
      " 7   room_type               23359 non-null  object \n",
      " 8   accommodates            23359 non-null  int64  \n",
      " 9   bathrooms_text          23291 non-null  object \n",
      " 10  bedrooms                21871 non-null  float64\n",
      " 11  beds                    23167 non-null  float64\n",
      " 12  price                   23359 non-null  object \n",
      " 13  minimum_nights          23359 non-null  int64  \n",
      " 14  maximum_nights          23359 non-null  int64  \n",
      " 15  number_of_reviews       23359 non-null  int64  \n",
      " 16  reviews_per_month       15107 non-null  float64\n",
      "dtypes: float64(5), int64(6), object(6)\n",
      "memory usage: 3.0+ MB\n"
     ]
    }
   ],
   "source": [
    "df.info()"
   ]
  },
  {
   "cell_type": "markdown",
   "id": "aed1a00f",
   "metadata": {},
   "source": [
    "## Lidando com Dados Nulos"
   ]
  },
  {
   "cell_type": "markdown",
   "id": "7d2308a7",
   "metadata": {},
   "source": [
    "**Verificação de quais colunas possuem dados nulos (em ordem decrescente)**"
   ]
  },
  {
   "cell_type": "code",
   "execution_count": 8,
   "id": "60a9a245",
   "metadata": {
    "scrolled": true
   },
   "outputs": [
    {
     "data": {
      "text/plain": [
       "reviews_per_month         8252\n",
       "bedrooms                  1488\n",
       "beds                       192\n",
       "bathrooms_text              68\n",
       "name                        21\n",
       "number_of_reviews            0\n",
       "maximum_nights               0\n",
       "minimum_nights               0\n",
       "price                        0\n",
       "id                           0\n",
       "room_type                    0\n",
       "property_type                0\n",
       "longitude                    0\n",
       "latitude                     0\n",
       "neighbourhood_cleansed       0\n",
       "host_id                      0\n",
       "accommodates                 0\n",
       "dtype: int64"
      ]
     },
     "execution_count": 8,
     "metadata": {},
     "output_type": "execute_result"
    }
   ],
   "source": [
    "df.isna().sum().sort_values(ascending=False)"
   ]
  },
  {
   "cell_type": "markdown",
   "id": "7214202d",
   "metadata": {},
   "source": [
    "**Abordagem**\n",
    "\n",
    "Como nenhuma coluna possui mais de 50% dos valores faltantes, não excluiremos nenhuma coluna. Com relação as linhas faltantes, ao invés de excluir linhas que não possuem informações, adotaremos uma abordagem de tentar preencher as linhas com uma suposição razoável, seja por técnicas estatísticas ou por um conhecimento do domínio do problema. "
   ]
  },
  {
   "cell_type": "markdown",
   "id": "8c0d5351",
   "metadata": {},
   "source": [
    "**Coluna reviews_per_months**\n",
    "\n",
    "A coluna *reviews_per_month* (avaliações por mês) tem 8252 linhas nulas. Isso representa aproximadamente 35% da quantidade total de dados. É uma quantidade muito expressiva para descartar todas essas linhas.\n",
    "\n",
    "Vamos assumir que como não há uma quantidade de avaliações por mês, então não foi feita nenhuma avaliação para aquele Airbnb. O que significa que podemos preencher essas linhas com o valor 0."
   ]
  },
  {
   "cell_type": "code",
   "execution_count": 9,
   "id": "40eb2c7a",
   "metadata": {},
   "outputs": [],
   "source": [
    "df['reviews_per_month'].fillna(0, inplace=True)"
   ]
  },
  {
   "cell_type": "code",
   "execution_count": 10,
   "id": "b4697bc0",
   "metadata": {},
   "outputs": [
    {
     "data": {
      "text/plain": [
       "bedrooms                  1488\n",
       "beds                       192\n",
       "bathrooms_text              68\n",
       "name                        21\n",
       "id                           0\n",
       "number_of_reviews            0\n",
       "maximum_nights               0\n",
       "minimum_nights               0\n",
       "price                        0\n",
       "accommodates                 0\n",
       "room_type                    0\n",
       "property_type                0\n",
       "longitude                    0\n",
       "latitude                     0\n",
       "neighbourhood_cleansed       0\n",
       "host_id                      0\n",
       "reviews_per_month            0\n",
       "dtype: int64"
      ]
     },
     "execution_count": 10,
     "metadata": {},
     "output_type": "execute_result"
    }
   ],
   "source": [
    "df.isna().sum().sort_values(ascending=False)"
   ]
  },
  {
   "cell_type": "markdown",
   "id": "76f9251a",
   "metadata": {},
   "source": [
    "**Coluna bedrooms**\n",
    "\n",
    "A coluna *bedrooms* (quartos) possui 1488 linhas nulas. Isso representa aproximadamente 6% dos dados. Apesar de ser uma pequena porcentagem, íremos preencher essas linhas com a mediana dos demais valores existentes nessa coluna. \n",
    "\n",
    "Foi escolhido o uso da mediana porque apesar de dos valores nessa coluna serem do tipo float64, podemos observar que todos os números são inteiros. Caso usassemos a média, obteríamos 1.7, um número não inteiro, e como não é possível existir 1.7 quartos, usamos a mediana para obtermos um valor inteiro. "
   ]
  },
  {
   "cell_type": "code",
   "execution_count": 11,
   "id": "3f458d37",
   "metadata": {},
   "outputs": [
    {
     "data": {
      "text/plain": [
       "array([ 2.,  1.,  6.,  4.,  3., nan,  7., 10.,  5.,  9., 15., 20.,  8.,\n",
       "       17., 12., 11., 13., 30., 14., 47., 18.])"
      ]
     },
     "execution_count": 11,
     "metadata": {},
     "output_type": "execute_result"
    }
   ],
   "source": [
    "# Verificando os valores únicos da coluna\n",
    "df['bedrooms'].unique()"
   ]
  },
  {
   "cell_type": "code",
   "execution_count": 12,
   "id": "c83833cd",
   "metadata": {},
   "outputs": [
    {
     "data": {
      "text/plain": [
       "1.0"
      ]
     },
     "execution_count": 12,
     "metadata": {},
     "output_type": "execute_result"
    }
   ],
   "source": [
    "df['bedrooms'].median()"
   ]
  },
  {
   "cell_type": "code",
   "execution_count": 13,
   "id": "3ab5603c",
   "metadata": {},
   "outputs": [],
   "source": [
    "df['bedrooms'].fillna((df['bedrooms'].median()), inplace=True)"
   ]
  },
  {
   "cell_type": "code",
   "execution_count": 14,
   "id": "02fd8d2c",
   "metadata": {},
   "outputs": [
    {
     "data": {
      "text/plain": [
       "beds                      192\n",
       "bathrooms_text             68\n",
       "name                       21\n",
       "id                          0\n",
       "number_of_reviews           0\n",
       "maximum_nights              0\n",
       "minimum_nights              0\n",
       "price                       0\n",
       "bedrooms                    0\n",
       "accommodates                0\n",
       "room_type                   0\n",
       "property_type               0\n",
       "longitude                   0\n",
       "latitude                    0\n",
       "neighbourhood_cleansed      0\n",
       "host_id                     0\n",
       "reviews_per_month           0\n",
       "dtype: int64"
      ]
     },
     "execution_count": 14,
     "metadata": {},
     "output_type": "execute_result"
    }
   ],
   "source": [
    "df.isna().sum().sort_values(ascending=False)"
   ]
  },
  {
   "cell_type": "markdown",
   "id": "c249312d",
   "metadata": {},
   "source": [
    "**Coluna beds**\n",
    "\n",
    "A coluna beds (camas) possui 192 valores nulos, o que representa aproximadamente 0.7% dos dados totais. Usando a mesma lógica de preenchimento da coluna bedrooms usaremos a mediana dos valores existentes."
   ]
  },
  {
   "cell_type": "code",
   "execution_count": 15,
   "id": "4d83e8be",
   "metadata": {},
   "outputs": [
    {
     "data": {
      "text/plain": [
       "array([ 2.,  1.,  7.,  5.,  3., 10.,  6.,  4.,  8.,  0.,  9., 16., 50.,\n",
       "       nan, 14., 13., 17., 12., 15., 11., 18., 91., 24., 35., 30., 41.,\n",
       "       38., 20., 22., 27., 33., 21., 26., 25., 23., 43., 52., 29., 31.])"
      ]
     },
     "execution_count": 15,
     "metadata": {},
     "output_type": "execute_result"
    }
   ],
   "source": [
    "df['beds'].unique()"
   ]
  },
  {
   "cell_type": "code",
   "execution_count": 16,
   "id": "45c77d0c",
   "metadata": {},
   "outputs": [
    {
     "data": {
      "text/plain": [
       "2.0"
      ]
     },
     "execution_count": 16,
     "metadata": {},
     "output_type": "execute_result"
    }
   ],
   "source": [
    "df['beds'].median()"
   ]
  },
  {
   "cell_type": "code",
   "execution_count": 17,
   "id": "05a98f7a",
   "metadata": {},
   "outputs": [],
   "source": [
    "df['beds'].fillna((df['beds'].median()), inplace=True)"
   ]
  },
  {
   "cell_type": "code",
   "execution_count": 18,
   "id": "8d193e76",
   "metadata": {},
   "outputs": [
    {
     "data": {
      "text/plain": [
       "bathrooms_text            68\n",
       "name                      21\n",
       "id                         0\n",
       "number_of_reviews          0\n",
       "maximum_nights             0\n",
       "minimum_nights             0\n",
       "price                      0\n",
       "beds                       0\n",
       "bedrooms                   0\n",
       "accommodates               0\n",
       "room_type                  0\n",
       "property_type              0\n",
       "longitude                  0\n",
       "latitude                   0\n",
       "neighbourhood_cleansed     0\n",
       "host_id                    0\n",
       "reviews_per_month          0\n",
       "dtype: int64"
      ]
     },
     "execution_count": 18,
     "metadata": {},
     "output_type": "execute_result"
    }
   ],
   "source": [
    "df.isna().sum().sort_values(ascending=False)"
   ]
  },
  {
   "cell_type": "markdown",
   "id": "d91f83c8",
   "metadata": {},
   "source": [
    "**Coluna bathrooms_text**\n",
    "\n",
    "A coluna *bathrooms_text* (textos sobre banheiros) tem 68 linhas nulas. Isso representa menos de 1% do total de dados. Entretanto, ao invés de excluir essas linhas do dataset, podemos preenchê-las com a moda, ou seja, o valor mais frequente dessa coluna. Usaremos a moda porque os valores são strings, então vamos tratá-los como dados categóricos nesse primeiro momento."
   ]
  },
  {
   "cell_type": "code",
   "execution_count": 19,
   "id": "ee753187",
   "metadata": {},
   "outputs": [
    {
     "data": {
      "text/plain": [
       "array(['1 bath', '1.5 baths', '15 baths', '1 private bath', '3 baths',\n",
       "       '7 baths', '4 baths', '2.5 baths', '2 baths', '5 shared baths',\n",
       "       nan, '1 shared bath', '4.5 baths', '2 shared baths',\n",
       "       '1.5 shared baths', '3.5 baths', '0 shared baths', '5 baths',\n",
       "       '0 baths', '2.5 shared baths', '6 baths', 'Shared half-bath',\n",
       "       '10 baths', '8 baths', '3 shared baths', '6.5 baths', '5.5 baths',\n",
       "       '4 shared baths', '7.5 baths', 'Half-bath', '3.5 shared baths',\n",
       "       '7 shared baths', '11.5 baths', '20 shared baths', '20 baths',\n",
       "       '6.5 shared baths', '11 baths', '12 baths', '15.5 baths',\n",
       "       '8.5 baths', '6 shared baths', 'Private half-bath', '10.5 baths',\n",
       "       '13 baths', '9 baths', '4.5 shared baths', '18 baths',\n",
       "       '8.5 shared baths', '50 baths', '9.5 baths', '9 shared baths',\n",
       "       '8 shared baths', '5.5 shared baths'], dtype=object)"
      ]
     },
     "execution_count": 19,
     "metadata": {},
     "output_type": "execute_result"
    }
   ],
   "source": [
    "df['bathrooms_text'].unique()"
   ]
  },
  {
   "cell_type": "code",
   "execution_count": 20,
   "id": "6143ce23",
   "metadata": {},
   "outputs": [
    {
     "data": {
      "text/plain": [
       "'1 bath'"
      ]
     },
     "execution_count": 20,
     "metadata": {},
     "output_type": "execute_result"
    }
   ],
   "source": [
    "df['bathrooms_text'].value_counts().index[0]"
   ]
  },
  {
   "cell_type": "code",
   "execution_count": 21,
   "id": "d9738748",
   "metadata": {},
   "outputs": [],
   "source": [
    "df['bathrooms_text'].fillna(df['bathrooms_text'].value_counts().index[0], inplace=True)"
   ]
  },
  {
   "cell_type": "code",
   "execution_count": 22,
   "id": "4171c5a7",
   "metadata": {},
   "outputs": [
    {
     "data": {
      "text/plain": [
       "name                      21\n",
       "id                         0\n",
       "bathrooms_text             0\n",
       "number_of_reviews          0\n",
       "maximum_nights             0\n",
       "minimum_nights             0\n",
       "price                      0\n",
       "beds                       0\n",
       "bedrooms                   0\n",
       "accommodates               0\n",
       "room_type                  0\n",
       "property_type              0\n",
       "longitude                  0\n",
       "latitude                   0\n",
       "neighbourhood_cleansed     0\n",
       "host_id                    0\n",
       "reviews_per_month          0\n",
       "dtype: int64"
      ]
     },
     "execution_count": 22,
     "metadata": {},
     "output_type": "execute_result"
    }
   ],
   "source": [
    "df.isna().sum().sort_values(ascending=False)"
   ]
  },
  {
   "cell_type": "markdown",
   "id": "46eccf6e",
   "metadata": {},
   "source": [
    "**Coluna name**\n",
    "\n",
    "A coluna name possui apenas 21 linhas com dados nulos. Apesar de ser uma coluna que não será útil para o modelo de machine learning, essa pode ser uma coluna interessante para algumas visualiações. Se essa coluna possuir valores nulos, pode ser que ocorram erros nos gráficos a utilizarem. Por isso, vamos simplesmente preencher esses nomes nulos com a string 'Name not informed'."
   ]
  },
  {
   "cell_type": "code",
   "execution_count": 23,
   "id": "136c79fe",
   "metadata": {},
   "outputs": [],
   "source": [
    "df['name'].fillna('Name not informed', inplace=True)"
   ]
  },
  {
   "cell_type": "code",
   "execution_count": 24,
   "id": "46b42998",
   "metadata": {},
   "outputs": [
    {
     "data": {
      "text/plain": [
       "id                        0\n",
       "bathrooms_text            0\n",
       "number_of_reviews         0\n",
       "maximum_nights            0\n",
       "minimum_nights            0\n",
       "price                     0\n",
       "beds                      0\n",
       "bedrooms                  0\n",
       "accommodates              0\n",
       "name                      0\n",
       "room_type                 0\n",
       "property_type             0\n",
       "longitude                 0\n",
       "latitude                  0\n",
       "neighbourhood_cleansed    0\n",
       "host_id                   0\n",
       "reviews_per_month         0\n",
       "dtype: int64"
      ]
     },
     "execution_count": 24,
     "metadata": {},
     "output_type": "execute_result"
    }
   ],
   "source": [
    "df.isna().sum().sort_values(ascending=False)"
   ]
  },
  {
   "cell_type": "markdown",
   "id": "864942b5",
   "metadata": {},
   "source": [
    "## Transformando strings em valores numéricos"
   ]
  },
  {
   "cell_type": "markdown",
   "id": "7e78d910",
   "metadata": {},
   "source": [
    "A coluna price (preço) está em forma de string. Vamos remover o \\\\$ e transformar o valor em um dado numérico. Devemos notar que além do sinal de \\\\$, devemos tomar cuidado com alguns valores que possuem , (vírgula), pois se a vírgula não for removida ocorrerá um erro na conversão de string para float."
   ]
  },
  {
   "cell_type": "code",
   "execution_count": 25,
   "id": "8c5c3e46",
   "metadata": {},
   "outputs": [
    {
     "data": {
      "text/plain": [
       "array(['$350.00', '$296.00', '$168.00', ..., '$1,083.00', '$2,456.00',\n",
       "       '$408.00'], dtype=object)"
      ]
     },
     "execution_count": 25,
     "metadata": {},
     "output_type": "execute_result"
    }
   ],
   "source": [
    "df['price'].unique()"
   ]
  },
  {
   "cell_type": "code",
   "execution_count": 26,
   "id": "15813801",
   "metadata": {},
   "outputs": [],
   "source": [
    "def convert_price_to_numeric(price):\n",
    "    return float(price[1:].replace(',', ''))"
   ]
  },
  {
   "cell_type": "code",
   "execution_count": 27,
   "id": "b742a565",
   "metadata": {},
   "outputs": [],
   "source": [
    "df['price'] = df['price'].apply(convert_price_to_numeric)"
   ]
  },
  {
   "cell_type": "markdown",
   "id": "534c3c1f",
   "metadata": {},
   "source": [
    "## Criando novas features com a informação sobre banheiro"
   ]
  },
  {
   "cell_type": "code",
   "execution_count": 28,
   "id": "d1f3a524",
   "metadata": {},
   "outputs": [
    {
     "data": {
      "text/plain": [
       "array(['1 bath', '1.5 baths', '15 baths', '1 private bath', '3 baths',\n",
       "       '7 baths', '4 baths', '2.5 baths', '2 baths', '5 shared baths',\n",
       "       '1 shared bath', '4.5 baths', '2 shared baths', '1.5 shared baths',\n",
       "       '3.5 baths', '0 shared baths', '5 baths', '0 baths',\n",
       "       '2.5 shared baths', '6 baths', 'Shared half-bath', '10 baths',\n",
       "       '8 baths', '3 shared baths', '6.5 baths', '5.5 baths',\n",
       "       '4 shared baths', '7.5 baths', 'Half-bath', '3.5 shared baths',\n",
       "       '7 shared baths', '11.5 baths', '20 shared baths', '20 baths',\n",
       "       '6.5 shared baths', '11 baths', '12 baths', '15.5 baths',\n",
       "       '8.5 baths', '6 shared baths', 'Private half-bath', '10.5 baths',\n",
       "       '13 baths', '9 baths', '4.5 shared baths', '18 baths',\n",
       "       '8.5 shared baths', '50 baths', '9.5 baths', '9 shared baths',\n",
       "       '8 shared baths', '5.5 shared baths'], dtype=object)"
      ]
     },
     "execution_count": 28,
     "metadata": {},
     "output_type": "execute_result"
    }
   ],
   "source": [
    "df['bathrooms_text'].unique()"
   ]
  },
  {
   "cell_type": "markdown",
   "id": "1b1b8836",
   "metadata": {},
   "source": [
    "**Transformando linhas que não possuem valor numérico para a quantidade de banheiros**\n",
    "\n",
    "As linhas que possuem 'Shared half-bath', 'Half-bath' ou 'Private half-bath' na coluna de bathrooms_text não têm um valor numérico para a quantidade de banheiros. Como são half-baths (metade de um banheiro), isso significa que são banheiros sem chuveiro e podemos assumir que isso está representado nos dados pelo valor 0.5."
   ]
  },
  {
   "cell_type": "code",
   "execution_count": 29,
   "id": "e0e1b01d",
   "metadata": {},
   "outputs": [],
   "source": [
    "half_baths = {'Shared half-bath': '0.5 shared half-bath', \n",
    "              'Half-bath': '0.5 half-bath',\n",
    "              'Private half-bath': '0.5 half-bath'}"
   ]
  },
  {
   "cell_type": "code",
   "execution_count": 30,
   "id": "05eb53f6",
   "metadata": {},
   "outputs": [],
   "source": [
    "df['bathrooms_text'].replace(half_baths, inplace=True)"
   ]
  },
  {
   "cell_type": "code",
   "execution_count": 31,
   "id": "db0f691a",
   "metadata": {},
   "outputs": [
    {
     "data": {
      "text/plain": [
       "array(['1 bath', '1.5 baths', '15 baths', '1 private bath', '3 baths',\n",
       "       '7 baths', '4 baths', '2.5 baths', '2 baths', '5 shared baths',\n",
       "       '1 shared bath', '4.5 baths', '2 shared baths', '1.5 shared baths',\n",
       "       '3.5 baths', '0 shared baths', '5 baths', '0 baths',\n",
       "       '2.5 shared baths', '6 baths', '0.5 shared half-bath', '10 baths',\n",
       "       '8 baths', '3 shared baths', '6.5 baths', '5.5 baths',\n",
       "       '4 shared baths', '7.5 baths', '0.5 half-bath', '3.5 shared baths',\n",
       "       '7 shared baths', '11.5 baths', '20 shared baths', '20 baths',\n",
       "       '6.5 shared baths', '11 baths', '12 baths', '15.5 baths',\n",
       "       '8.5 baths', '6 shared baths', '10.5 baths', '13 baths', '9 baths',\n",
       "       '4.5 shared baths', '18 baths', '8.5 shared baths', '50 baths',\n",
       "       '9.5 baths', '9 shared baths', '8 shared baths',\n",
       "       '5.5 shared baths'], dtype=object)"
      ]
     },
     "execution_count": 31,
     "metadata": {},
     "output_type": "execute_result"
    }
   ],
   "source": [
    "df['bathrooms_text'].unique()"
   ]
  },
  {
   "cell_type": "markdown",
   "id": "343112c3",
   "metadata": {},
   "source": [
    "**Criando coluna com o valor numérico da quantidade de banheiro**"
   ]
  },
  {
   "cell_type": "code",
   "execution_count": 32,
   "id": "d68c0195",
   "metadata": {},
   "outputs": [],
   "source": [
    "def get_bath_qnt(bath_text):\n",
    "    bath_qnt = float(bath_text.split()[0])\n",
    "    return bath_qnt"
   ]
  },
  {
   "cell_type": "code",
   "execution_count": 33,
   "id": "c5484580",
   "metadata": {},
   "outputs": [],
   "source": [
    "df['bathrooms_number'] = df['bathrooms_text'].apply(get_bath_qnt)"
   ]
  },
  {
   "cell_type": "markdown",
   "id": "aa244e47",
   "metadata": {},
   "source": [
    "**O banheiro é compartilhado? (Bathroom is shared?)**\n",
    "\n",
    "Criando nova feature que diz se o(s) banheiro(s) são compartilhados ou não."
   ]
  },
  {
   "cell_type": "code",
   "execution_count": 34,
   "id": "b2107d1b",
   "metadata": {},
   "outputs": [],
   "source": [
    "def is_shared(bath):\n",
    "    if bath.lower().find('shared') < 0:\n",
    "        return 0\n",
    "    else:\n",
    "        return 1"
   ]
  },
  {
   "cell_type": "code",
   "execution_count": 35,
   "id": "503b7c54",
   "metadata": {},
   "outputs": [],
   "source": [
    "df['bathroom_is_shared'] = df['bathrooms_text'].apply(is_shared)"
   ]
  },
  {
   "cell_type": "markdown",
   "id": "677abd4f",
   "metadata": {},
   "source": [
    "**Tipo de banheiro**"
   ]
  },
  {
   "cell_type": "code",
   "execution_count": 36,
   "id": "3beb2181",
   "metadata": {},
   "outputs": [],
   "source": [
    "def get_bath_type(bath):\n",
    "    bath_list = bath.split()[1:]\n",
    "    bath_type = ''.join([f'{bath} ' for bath in bath_list])\n",
    "    \n",
    "    bath_type = bath_type.replace('private ', '')\n",
    "    \n",
    "    if bath_type[-2] == 's':\n",
    "        return bath_type[:-2]\n",
    "    else:\n",
    "        return bath_type[:-1]"
   ]
  },
  {
   "cell_type": "code",
   "execution_count": 37,
   "id": "e4a24ef2",
   "metadata": {},
   "outputs": [],
   "source": [
    "df['bathrooms_type'] = df['bathrooms_text'].apply(get_bath_type)"
   ]
  },
  {
   "cell_type": "code",
   "execution_count": 38,
   "id": "29d39e33",
   "metadata": {},
   "outputs": [
    {
     "data": {
      "text/plain": [
       "array(['bath', 'shared bath', 'shared half-bath', 'half-bath'],\n",
       "      dtype=object)"
      ]
     },
     "execution_count": 38,
     "metadata": {},
     "output_type": "execute_result"
    }
   ],
   "source": [
    "df['bathrooms_type'].unique()"
   ]
  },
  {
   "cell_type": "markdown",
   "id": "6861a3b7",
   "metadata": {},
   "source": [
    "## Salvando o dataset limpo"
   ]
  },
  {
   "cell_type": "code",
   "execution_count": 39,
   "id": "3cc72a2a",
   "metadata": {},
   "outputs": [],
   "source": [
    "df.to_csv('data/cleaned_listing.csv')"
   ]
  },
  {
   "cell_type": "code",
   "execution_count": null,
   "id": "83ce1613",
   "metadata": {},
   "outputs": [],
   "source": []
  }
 ],
 "metadata": {
  "kernelspec": {
   "display_name": "Python 3 (ipykernel)",
   "language": "python",
   "name": "python3"
  },
  "language_info": {
   "codemirror_mode": {
    "name": "ipython",
    "version": 3
   },
   "file_extension": ".py",
   "mimetype": "text/x-python",
   "name": "python",
   "nbconvert_exporter": "python",
   "pygments_lexer": "ipython3",
   "version": "3.9.7"
  }
 },
 "nbformat": 4,
 "nbformat_minor": 5
}
